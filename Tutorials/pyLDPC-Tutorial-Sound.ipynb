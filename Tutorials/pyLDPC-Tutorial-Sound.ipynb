{
 "cells": [
  {
   "cell_type": "markdown",
   "metadata": {},
   "source": [
    "<h1 align=\"center\"> pyLDPC Tutorial: Sound </h1>\n",
    "\n",
    "## update:  03/28/16 - v.0.8.0\n",
    "\n",
    "<b><font color=\"red\"> Since version 0.7: Coding and decoding functions take tG (Transposed G) instead of G, the coding matrix. Functions that construct it (CodingMatrix and CodingMatrix_systematic) return tG instead of G as well. </font></b> \n",
    "<br> \n",
    "\n",
    "<b><font color=\"blue\"> Since version 0.8: Coding and decoding functions no longer require conditions on matrices' sizes. The Sound data is adapted to the the matrices. </font></b> \n",
    "\n",
    "<font color=#0101DF><b> Note: </b> </font> \n",
    "\n",
    " <b> Github doesn't support HTML audio in jupyter's cells, I invite you to open this notebook in <a href=\"http://nbviewer.jupyter.org/github/janatiH/pyldpc/blob/master/pyLDPC-Tutorial-Sound.ipynb?flush_cache=true\"> nbviewer </a> </b> \n",
    "\n",
    "\n",
    "This notebook introduces a user's guide of pyLDPC's sub-module Sound: ldpc_sound.\n",
    "If you would like to know what each function does and go into the construction details, go to <a href=\"http://nbviewer.jupyter.org/github/janatiH/pyldpc/blob/master/pyLDPC-Sound-Construction.ipynb?flush_cache=true/\"> LDPC-Sound Construction Details</a>\n",
    "\n",
    "First, before anyone sets high expectations, keep in mind that most audio files have a sampling rate of <b>44100 Hz.</b> Which means that decoding only one second of a track is the same as decoding an array of 44100 numbers. Each number has an int16 format, which (as you may have seen in the link above) is transformed to a 17 bits binary array. And that's <u><b>a lot</b></u> to code and decode !\n",
    "\n",
    "<b><font color=#A44057> On a 1.5Ghz i5 processor - 4Go RAM, coding plus 1 iteration of decoding of a 5 seconds-track last for about 20 minutes ! </font></b>\n",
    "\n",
    "If you want to know why aren't we using low sampling frequencies and make everybody happy, <a href=\"https://en.wikipedia.org/wiki/44,100_Hz\" > this</a> might give you a satisfying answer. (This is a result of <i>Shannon's theroem</i> and I'm not really an expert of the subject ..)\n",
    "\n",
    "In this tutorial, I'll be using <b><u> wav</u></b> audio files because they're easy to read as numpy arrays with <b><u>scipy</u></b>. "
   ]
  },
  {
   "cell_type": "code",
   "execution_count": 1,
   "metadata": {
    "collapsed": false
   },
   "outputs": [],
   "source": [
    "import numpy as np\n",
    "import pyldpc\n",
    "from pyldpc import ldpc_sound\n",
    "from scipy.sparse import csr_matrix\n",
    "from time import time\n",
    "from scipy.io import wavfile"
   ]
  },
  {
   "cell_type": "markdown",
   "metadata": {
    "collapsed": true
   },
   "source": [
    "If I had to sum up Sound Coding and decoding in a few words, I'd say:\n",
    "\n",
    "1. Make coding and decoding matrices G and H.\n",
    "2. Read the wav file 1-D array. (If Stereo, take one of the channels)\n",
    "3. Binarize the audio array [Using functions we'll see later].\n",
    "4. Apply Coding function to binary array.\n",
    "5. Apply Decoding function to Coded array. \n",
    "\n",
    "\n",
    "# Step 1: Construct a code\n",
    "\n",
    "To construct a code you need to choose a the triplet (n,d_v,d_c). \n",
    "Keep in mind that: \n",
    "\n",
    "- the rate of the code k/n is approximately equal to 1 - d_v/d_c.****\n",
    "- if high values of k,n are used, transform H and G to csr format using scipy.sparse.csr_matrix(): It's a compressed format with which calculations are faster. \n",
    "\n",
    "\n",
    "* *Details about how to choose matrices parameters <a href=\"http://nbviewer.jupyter.org/github/janatiH/pyldpc/blob/master/pyLDPC-Tutorial-Matrices.ipynb?flush_cache=true/\">here </a>, but I recommand going through this tutorial and using the matrices defined hereby (or any other matrices) for now, and then optimize your coding & decoding by changing the matrices.*\n",
    "\n"
   ]
  },
  {
   "cell_type": "code",
   "execution_count": 2,
   "metadata": {
    "collapsed": false
   },
   "outputs": [
    {
     "data": {
      "text/plain": [
       "252"
      ]
     },
     "execution_count": 2,
     "metadata": {},
     "output_type": "execute_result"
    }
   ],
   "source": [
    "n = 1000\n",
    "d_c = 4\n",
    "d_v = 3 #In this case k is approximately equal to n/4 (n x (1-3/4))\n",
    "\n",
    "H = pyldpc.RegularH(n,d_v,d_c)\n",
    "H,tG = pyldpc.CodingMatrix_systematic(H)\n",
    "\n",
    "tGs = csr_matrix(tG)\n",
    "Hs = csr_matrix(H)\n",
    "\n",
    "k = tG.shape[1]\n",
    "k"
   ]
  },
  {
   "cell_type": "markdown",
   "metadata": {},
   "source": [
    "# Step 2: Read and binarize the audio file\n",
    "\n",
    "\n",
    "Let's code/decode a 5 seconds piano track. \n",
    "\n",
    "<br>\n",
    "\n",
    "<audio controls src=\"Sound/piano/piano.wav\" type=audio/wav> </audio>\n",
    "\n",
    "As mentioned above, coding this file and one iteration of decoding took 20-30mn. If you'd like to impress your friends and collegues by decoding a noisy version of the latest album of Eminem, you would probably have to run the algorithm for <b> days </b>. That's simply because most audio files are recorded with a sampling rate (or frequency if you prefer) of 44.1 kHz. Which means that if you read a wav file with the function <i> wavfile.read() </i> you will get the tuple <i> frequency, array </i>."
   ]
  },
  {
   "cell_type": "code",
   "execution_count": 3,
   "metadata": {
    "collapsed": false
   },
   "outputs": [
    {
     "name": "stdout",
     "output_type": "stream",
     "text": [
      "Frequency: 44100 samples/sec\n",
      "\n",
      "Piano Array:\n",
      " [[   0    0]\n",
      " [   0    0]\n",
      " [   9  766]\n",
      " ..., \n",
      " [2024 3144]\n",
      " [2046 3960]\n",
      " [ -29  -66]]\n",
      "\n",
      "Piano's shape: (235200, 2)\n",
      "\n",
      "Piano's type: int16\n"
     ]
    },
    {
     "name": "stderr",
     "output_type": "stream",
     "text": [
      "/Library/Frameworks/Python.framework/Versions/3.4/lib/python3.4/site-packages/scipy-0.17.0-py3.4-macosx-10.6-intel.egg/scipy/io/wavfile.py:221: WavFileWarning: Chunk (non-data) not understood, skipping it.\n",
      "  WavFileWarning)\n"
     ]
    }
   ],
   "source": [
    "freq, array = wavfile.read(\"Sound/piano/piano.wav\")\n",
    "print(\"Frequency: {} samples/sec\".format(freq))\n",
    "print(\"\\nPiano Array:\\n\",array)\n",
    "print(\"\\nPiano's shape:\",array.shape)\n",
    "print(\"\\nPiano's type:\",array.dtype)"
   ]
  },
  {
   "cell_type": "markdown",
   "metadata": {},
   "source": [
    " The array is, as explained above, a series of int16 numbers. Some files contain multiple series of numbers (like the one above: 2 columns of 235200 int16 numbers). We call them <i> channels </i>. The additional channels are not necessary: they provide a stereo-effect. That's why, we'll code and decode only one channel (they're the same, but with a sort of delay in time, so that the sound seems to be coming from different directions)."
   ]
  },
  {
   "cell_type": "code",
   "execution_count": 4,
   "metadata": {
    "collapsed": false
   },
   "outputs": [
    {
     "data": {
      "text/plain": [
       "(235200,)"
      ]
     },
     "execution_count": 4,
     "metadata": {},
     "output_type": "execute_result"
    }
   ],
   "source": [
    "piano = array[:,0]\n",
    "piano.shape"
   ]
  },
  {
   "cell_type": "markdown",
   "metadata": {},
   "source": [
    "Here's the first channel (hypothetically) for example of our piano track that lasts for 5.33 seconds: \n",
    "\n",
    "<img src=\"Equations/SoundT1.png\">\n",
    "\n",
    "<br>\n",
    "\n",
    "Now you realize how big a very short audio file can be ! Each number is an int16 number which means we'll need 17 bits to binarize it... (remember that an int16 can be negative, so it's included in a 2^16 width segment). \n"
   ]
  },
  {
   "cell_type": "code",
   "execution_count": 5,
   "metadata": {
    "collapsed": false
   },
   "outputs": [
    {
     "name": "stdout",
     "output_type": "stream",
     "text": [
      "\n",
      "Piano's duration: 5.333333333333333 seconds.\n"
     ]
    }
   ],
   "source": [
    "print(\"\\nPiano's duration: {} seconds.\".format(len(piano)/freq))"
   ]
  },
  {
   "cell_type": "markdown",
   "metadata": {},
   "source": [
    "Let's binarize it using the function:\n",
    "```python\n",
    "ldpc_sound.Audio2Bin (audio array) -> return (audio binary form)\n",
    "```\n"
   ]
  },
  {
   "cell_type": "code",
   "execution_count": 6,
   "metadata": {
    "collapsed": false
   },
   "outputs": [
    {
     "data": {
      "text/plain": [
       "(235200, 17)"
      ]
     },
     "execution_count": 6,
     "metadata": {},
     "output_type": "execute_result"
    }
   ],
   "source": [
    "piano_bin = ldpc_sound.Audio2Bin(piano)\n",
    "piano_bin.shape"
   ]
  },
  {
   "cell_type": "markdown",
   "metadata": {},
   "source": [
    "# Step 3: Code the binary array\n",
    "\n",
    "\n",
    "```python\n",
    "ldpc_sound.SoundCoding (tG transposed coding matrix, audio binary form, snr) -> return (coded audio, noisy binary audio) \n",
    "```\n",
    "\n",
    "We choose to code it with SNR = 6 decibels (which corresponds to a standard-deviation around 0.45). \n"
   ]
  },
  {
   "cell_type": "code",
   "execution_count": 7,
   "metadata": {
    "collapsed": true
   },
   "outputs": [],
   "source": [
    "snr = 6"
   ]
  },
  {
   "cell_type": "code",
   "execution_count": 16,
   "metadata": {
    "collapsed": false
   },
   "outputs": [
    {
     "name": "stdout",
     "output_type": "stream",
     "text": [
      "Coding time of 235200 samples: 2.9040398597717285s\n",
      "\n"
     ]
    }
   ],
   "source": [
    "t = time()\n",
    "piano_coded, piano_noisy_bin = ldpc_sound.SoundCoding(tGs,piano_bin,snr)\n",
    "t = time() - t\n",
    "\n",
    "print(\"Coding time of {} samples: {}s\\n\".format(len(piano_bin), t))\n"
   ]
  },
  {
   "cell_type": "markdown",
   "metadata": {},
   "source": [
    "To read the noisy array, you need to transfrom it from binary to Audio format and save it somewhere in your HDD. "
   ]
  },
  {
   "cell_type": "code",
   "execution_count": 17,
   "metadata": {
    "collapsed": true
   },
   "outputs": [],
   "source": [
    "piano_noisy = ldpc_sound.Bin2Audio(piano_noisy_bin)\n",
    "wavfile.write(\"Sound/piano/test/piano_noisy.wav\",freq,piano_noisy)"
   ]
  },
  {
   "cell_type": "markdown",
   "metadata": {
    "collapsed": true
   },
   "source": [
    "Here's what the noisy test sounds like:\n",
    "\n",
    "<br>\n",
    "\n",
    "<audio controls src=\"Sound/piano/test/piano_noisy.wav\" type=audio/wav></audio>\n",
    "\n",
    "<br>\n",
    "\n",
    "<font color=\"red\"> NOTE: I used the csr format of tG (tGs) in coding as recommended with large codes. Here is the difference if coding is done with standard numpy format: </font>"
   ]
  },
  {
   "cell_type": "code",
   "execution_count": 18,
   "metadata": {
    "collapsed": false
   },
   "outputs": [
    {
     "name": "stdout",
     "output_type": "stream",
     "text": [
      "Coding time of 235200 samples using tG instead of csr format tGs: 7.882143020629883s\n",
      "\n"
     ]
    },
    {
     "name": "stderr",
     "output_type": "stream",
     "text": [
      "/Library/Frameworks/Python.framework/Versions/3.4/lib/python3.4/site-packages/pyldpc-0.7.1-py3.4.egg/pyldpc/ldpc_sound.py:55: UserWarning: Using scipy.sparse.csr_matrix format is highly recommanded when computing coding and decoding with large matrices to speed up calculations.\n",
      "  warnings.warn(\"Using scipy.sparse.csr_matrix format is highly recommanded when computing coding and decoding with large matrices to speed up calculations.\")\n"
     ]
    }
   ],
   "source": [
    "t = time()\n",
    "piano_coded_tG, piano_noisy_bin_tG = ldpc_sound.SoundCoding(tG,piano_bin,snr)\n",
    "t = time() - t\n",
    "\n",
    "print(\"Coding time of {} samples using tG instead of csr format tGs: {}s\\n\".format(len(piano_bin), t))\n"
   ]
  },
  {
   "cell_type": "markdown",
   "metadata": {
    "collapsed": true
   },
   "source": [
    "Coding is almost 3 times faster with csr format ! \n",
    "\n",
    "# Step 4: Decoding ! \n",
    "\n",
    "Now decode it with the function:\n",
    "\n",
    "```python\n",
    "ldpc_sound.SoundDecoding\n",
    "```\n",
    "\n",
    "Let's try one iteration of decoding. "
   ]
  },
  {
   "cell_type": "code",
   "execution_count": 13,
   "metadata": {
    "collapsed": true
   },
   "outputs": [],
   "source": [
    "max_iter = 1 "
   ]
  },
  {
   "cell_type": "code",
   "execution_count": 20,
   "metadata": {
    "collapsed": false
   },
   "outputs": [
    {
     "name": "stdout",
     "output_type": "stream",
     "text": [
      "Decoding time of 235200 samples and 1 max iterations: 18.0mn 14s\n",
      "\n"
     ]
    }
   ],
   "source": [
    "t = time()\n",
    "piano_decoded_bin = ldpc_sound.SoundDecoding(tGs,Hs,piano_coded,snr,max_iter)\n",
    "t = time() - t \n",
    "\n",
    "print(\"Decoding time of {} samples and {} max iterations: {}mn {}s\\n\".format(len(piano_decoded_bin),max_iter, t//60,int(t%60)))"
   ]
  },
  {
   "cell_type": "markdown",
   "metadata": {},
   "source": [
    "Compare the original to the decoded version using *BER_audio* to compute the Bit Error Rate: "
   ]
  },
  {
   "cell_type": "code",
   "execution_count": 21,
   "metadata": {
    "collapsed": false
   },
   "outputs": [
    {
     "name": "stdout",
     "output_type": "stream",
     "text": [
      "Bit Error Rate in %:  0.0504201680672 %\n"
     ]
    }
   ],
   "source": [
    "print(\"Bit Error Rate in %: \",100*ldpc_sound.BER_audio(piano_bin,piano_decoded_bin),\"%\")"
   ]
  },
  {
   "cell_type": "markdown",
   "metadata": {},
   "source": [
    "To read the decoded version, change it from binary to Audio and save it."
   ]
  },
  {
   "cell_type": "code",
   "execution_count": 22,
   "metadata": {
    "collapsed": true
   },
   "outputs": [],
   "source": [
    "piano_decoded = ldpc_sound.Bin2Audio(piano_decoded_bin)\n",
    "wavfile.write(\"Sound/piano/test/piano_decoded.wav\",freq,piano_decoded)"
   ]
  },
  {
   "cell_type": "markdown",
   "metadata": {
    "collapsed": true
   },
   "source": [
    "Here's what the decoded test sounds like:\n",
    "\n",
    "<br>\n",
    "\n",
    "<audio controls src=\"Sound/piano/test/piano_decoded.wav\" type=audio/wav></audio>\n",
    "\n",
    "<br>\n",
    "\n",
    "The BER is not 0 (and you can still hear the noise). We'll need to increase max_iter for a better decoding:"
   ]
  },
  {
   "cell_type": "markdown",
   "metadata": {},
   "source": [
    "# Step 5: Increase max_iter if needed\n",
    "\n",
    "Depending on the channel model you built (SNR's value) and the quality of decoding you're hoping for, you may probably still have a little noisy sounds (BER > 0) after only one iteration of decoding. Sometimes, usually with small SNRs (less than 6), you may even need to complete hundreds of iterations to get a satisfying results. The idea here is making 2 iterations instead of one won't make a valuable difference. Personally, I increase max_iter like this :\n",
    "1, 15, 50, 100, 200. However, for low values of SNR, perfect decoding may not be possible no matter how you increase the number of iterations: the noise is in this case too loud to re-establish 100% of the information.\n",
    "\n"
   ]
  },
  {
   "cell_type": "code",
   "execution_count": 23,
   "metadata": {
    "collapsed": false
   },
   "outputs": [
    {
     "name": "stdout",
     "output_type": "stream",
     "text": [
      "Decoding time of 235200 samples and 20 max iterations: 26.0mn 26s\n",
      "\n"
     ]
    }
   ],
   "source": [
    "max_iter = 20\n",
    "t = time()\n",
    "piano_decoded_bin = ldpc_sound.SoundDecoding(tGs,Hs,piano_coded,snr,max_iter)\n",
    "t = time() - t \n",
    "\n",
    "print(\"Decoding time of {} samples and {} max iterations: {}mn {}s\\n\".format(len(piano_decoded_bin),max_iter, t//60,int(t%60)))"
   ]
  },
  {
   "cell_type": "code",
   "execution_count": 24,
   "metadata": {
    "collapsed": false
   },
   "outputs": [
    {
     "name": "stdout",
     "output_type": "stream",
     "text": [
      "Bit Error Rate in %:  0.0 %\n"
     ]
    }
   ],
   "source": [
    "print(\"Bit Error Rate in %: \",100*ldpc_sound.BER_audio(piano_bin,piano_decoded_bin),\"%\")"
   ]
  },
  {
   "cell_type": "code",
   "execution_count": 25,
   "metadata": {
    "collapsed": true
   },
   "outputs": [],
   "source": [
    "piano_decoded = ldpc_sound.Bin2Audio(piano_decoded_bin)\n",
    "wavfile.write(\"Sound/piano/test/piano_decoded_20.wav\",freq,piano_decoded)"
   ]
  },
  {
   "cell_type": "markdown",
   "metadata": {},
   "source": [
    "<h4> Tada ! Our decoding is almost error-free ! No need to add more iterations ! </h4>\n",
    "\n",
    "Let's have a look at our 3 tracks.\n",
    "\n",
    "The original track:\n",
    "\n",
    "<audio controls src=\"Sound/piano/piano.wav\" type=audio/wav></audio>\n",
    "\n",
    "The noisy track:\n",
    "\n",
    "<audio controls src=\"Sound/piano/test/piano_noisy.wav\" type=audio/wav></audio>\n",
    "\n",
    "The decoded track:\n",
    "\n",
    "<audio controls src=\"Sound/piano/test/piano_decoded_20.wav\" type=audio/wav></audio>\n",
    "\n",
    "\n",
    "<font color=#A44057> <h2> Application to songs </h2> </font>\n",
    "\n",
    "As I said before, you can use the same method described in this tutorial by first cutting your 3 minutes track in many (too many) 5 seconds tracks. And then concatenate the whole mess ! You will need to make sure that no file gets overwritten ! \n",
    "\n",
    "As soon as the first song is coded/decoded, an example will be added in this section."
   ]
  },
  {
   "cell_type": "code",
   "execution_count": null,
   "metadata": {
    "collapsed": true
   },
   "outputs": [],
   "source": []
  }
 ],
 "metadata": {
  "kernelspec": {
   "display_name": "Python 3",
   "language": "python",
   "name": "python3"
  },
  "language_info": {
   "codemirror_mode": {
    "name": "ipython",
    "version": 3
   },
   "file_extension": ".py",
   "mimetype": "text/x-python",
   "name": "python",
   "nbconvert_exporter": "python",
   "pygments_lexer": "ipython3",
   "version": "3.4.3"
  }
 },
 "nbformat": 4,
 "nbformat_minor": 0
}
