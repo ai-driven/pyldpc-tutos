{
 "cells": [
  {
   "cell_type": "markdown",
   "metadata": {},
   "source": [
    "<h1 align=\"center\"> Example of Sound Transmission Simulation: GOT's generic </h1> \n",
    "\n",
    "<br> \n",
    "\n",
    "<font color=#0101DF><b> Note: </b> </font> \n",
    "\n",
    " <b> Github doesn't support HTML in jupyter's cells, I invite you to open this notebook in <a href=\"http://nbviewer.jupyter.org/github/hichamjanati/pyldpc/blob/master/Example-Sound.ipynb?flush_cache=true\"> nbviewer </a></b>  \n",
    "\n",
    "\n",
    "The original track:\n",
    "\n",
    "<br>\n",
    "\n",
    "<audio controls src=\"GOT/Music/samples/40.wav\" type=audio/wav></audio>\n",
    "\n",
    "<br>\n",
    "\n",
    "The noisy track: Signal Noise Ratio SNR = 9db.\n",
    "\n",
    "<br>\n",
    "\n",
    "<audio controls src=\"GOT/Music/noisy/snr=9/40.wav\" type=audio/wav></audio>\n",
    "\n",
    "<br>\n",
    "\n",
    "The decoded track, 1 iteration of decoding:\n",
    "\n",
    "<br>\n",
    "\n",
    "<audio controls src=\"GOT/Music/decoded/max_iter=1/40.wav\" type=audio/wav></audio>\n",
    "\n",
    "<br>\n",
    "\n",
    "Bit-Error-Rate = 1.17 10^(-5) \n",
    "\n",
    "The decoded track, 20 iterations of decoding:\n",
    "\n",
    "<br>\n",
    "\n",
    "<audio controls src=\"GOT/Music/decoded/max_iter=20/40.wav\" type=audio/wav></audio>\n",
    "\n",
    "<br>\n",
    "\n",
    "To learn more about LDPC applications:\n",
    "\n",
    "- Sound Coding & Decoding: \n",
    "    \n",
    "    . <a href=\"http://nbviewer.jupyter.org/github/hichamjanati/pyldpc/blob/master/pyLDPC-Sound-Construction.ipynb?flush_cache=true/\"> \n",
    "    LDPC-Sound Construction Details</a> \n",
    "    \n",
    "    . <a href=\"http://nbviewer.jupyter.org/github/hichamjanati/pyldpc/blob/master/pyLDPC-Tutorial-Sound.ipynb?flush_cache=true\"> User's guide: pyLDPC-Sound Tutorial</a>\n",
    "  \n",
    "\n",
    "- Image Coding & Decoding:\n",
    "\n",
    "    . <a href=\"http://nbviewer.jupyter.org/github/hichamjanati/pyldpc/blob/master/pyLDPC-Images-Construction.ipynb?flush_cache=true/\"> LDPC-Images Construction Details</a>\n",
    "    \n",
    "    . <a href=\"http://nbviewer.jupyter.org/github/hichamjanati/pyldpc/blob/master/pyLDPC-Tutorial-Images.ipynb?flush_cache=true\"> User's guide: pyLDPC-Images Tutorial</a>\n"
   ]
  },
  {
   "cell_type": "code",
   "execution_count": null,
   "metadata": {
    "collapsed": true
   },
   "outputs": [],
   "source": []
  }
 ],
 "metadata": {
  "anaconda-cloud": {},
  "kernelspec": {
   "display_name": "Python [default]",
   "language": "python",
   "name": "python3"
  },
  "language_info": {
   "codemirror_mode": {
    "name": "ipython",
    "version": 3
   },
   "file_extension": ".py",
   "mimetype": "text/x-python",
   "name": "python",
   "nbconvert_exporter": "python",
   "pygments_lexer": "ipython3",
   "version": "3.5.2"
  }
 },
 "nbformat": 4,
 "nbformat_minor": 0
}
