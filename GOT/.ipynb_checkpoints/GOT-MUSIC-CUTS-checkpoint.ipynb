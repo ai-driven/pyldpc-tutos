{
 "cells": [
  {
   "cell_type": "markdown",
   "metadata": {},
   "source": [
    "# GOT - MUSIC "
   ]
  },
  {
   "cell_type": "code",
   "execution_count": 3,
   "metadata": {
    "collapsed": false
   },
   "outputs": [
    {
     "data": {
      "text/plain": [
       "183456"
      ]
     },
     "execution_count": 3,
     "metadata": {},
     "output_type": "execute_result"
    }
   ],
   "source": [
    "import numpy as np\n",
    "import pyldpc\n",
    "from pyldpc import ldpc_sound\n",
    "from time import time\n",
    "from scipy.io import wavfile \n",
    "from shutil import copytree\n",
    "import os\n",
    "music = \"Music/\"\n",
    "(44100*4)+4*1764"
   ]
  },
  {
   "cell_type": "code",
   "execution_count": 5,
   "metadata": {
    "collapsed": false
   },
   "outputs": [],
   "source": [
    "freq, got = wavfile.read(music+\"got.wav\")\n",
    "wavfile.write(music+\"samples/60.wav\",freq,got[:60*freq])\n",
    "length = len(got)\n",
    "number_of_cuts = int(length/(5*freq))+1\n",
    "freqn,noisy105 = wavfile.read(music+\"noisy/snr=9/60.wav\")\n",
    "wavfile.write(\"Music/noisy/4.wav\",freq,noisy105[:183456])"
   ]
  },
  {
   "cell_type": "markdown",
   "metadata": {},
   "source": [
    "<audio controls src=\"GOT/Music/got.wav\" type=audio/wav>"
   ]
  },
  {
   "cell_type": "code",
   "execution_count": 25,
   "metadata": {
    "collapsed": false
   },
   "outputs": [],
   "source": [
    "CUT = 0\n",
    "if CUT :\n",
    "    cuts = music + \"cuts/\"\n",
    "    src = cuts + \"snr=9\"\n",
    "    for i in range(number_of_cuts):\n",
    "        folder_sample = cuts + \"cut\" + str(5*i)+\"-\"+str(5*(i+1))+\"/\"\n",
    "        if not os.path.exists(folder_sample):\n",
    "            os.makedirs(folder_sample)\n",
    "        copytree(src,folder_sample+\"snr=9\")\n",
    "        sample = got[5*i*freq:min(length-1,5*(i+1)*freq)]\n",
    "        \n",
    "        wavfile.write(folder_sample+\"sample.wav\",freq,sample)\n"
   ]
  },
  {
   "cell_type": "code",
   "execution_count": 43,
   "metadata": {
    "collapsed": false
   },
   "outputs": [
    {
     "data": {
      "text/plain": [
       "17"
      ]
     },
     "execution_count": 43,
     "metadata": {},
     "output_type": "execute_result"
    }
   ],
   "source": [
    "n = 42\n",
    "d_v = 4\n",
    "d_c = 6\n",
    "\n",
    "H = pyldpc.RegularH(n,d_v,d_c) \n",
    "H,G = pyldpc.CodingMatrix_systematic(H) #Must be systematic to visualize the noisy track \n",
    "k = G.shape[0]\n",
    "k "
   ]
  },
  {
   "cell_type": "code",
   "execution_count": 42,
   "metadata": {
    "collapsed": true
   },
   "outputs": [],
   "source": [
    "snr = 9\n",
    "max_iter = 1"
   ]
  },
  {
   "cell_type": "markdown",
   "metadata": {},
   "source": [
    "## CUT0-5 X "
   ]
  },
  {
   "cell_type": "code",
   "execution_count": 45,
   "metadata": {
    "collapsed": false
   },
   "outputs": [
    {
     "name": "stdout",
     "output_type": "stream",
     "text": [
      "Coding time of the second 0: tc = 0mn 35s\n",
      "\n",
      "Decoding time of the second 0 and max iterations =1 : td = 39mn 13s\n",
      "\n"
     ]
    }
   ],
   "source": [
    "if 1:\n",
    "    cut = cuts + \"cut0-5/\"\n",
    "\n",
    "\n",
    "    freq,sample = wavfile.read(cut+\"sample.wav\")    \n",
    "    sample_bin = ldpc_sound.Audio2Bin(sample)\n",
    "\n",
    "    tc = time()\n",
    "    coded,noisy= ldpc_sound.SoundCoding(G,sample_bin,snr)\n",
    "    tc = time()-tc\n",
    "\n",
    "    wavfile.write(cut+\"snr=\"+str(snr)+\"/max_iter=\"+str(max_iter)+\"/noisy/noisy.wav\",freq,noisy)\n",
    "\n",
    "    print(\"Coding time of the second {}: tc = {}mn {}s\\n\".format(second, int(tc//60),int(tc%60)))\n",
    "\n",
    "    td = time()\n",
    "    decoded = ldpc_sound.SoundDecoding(G,H,coded,snr,max_iter)   \n",
    "    td = time()-td\n",
    "\n",
    "    wavfile.write(cut+\"snr=\"+str(snr)+\"/max_iter=\"+str(max_iter)+\"/decoded/decoded.wav\",freq,decoded)\n",
    "\n",
    "    print(\"Decoding time of the second {} and max iterations ={} : td = {}mn {}s\\n\".format(second,max_iter, int(td//60),int(td%60)))\n",
    "\n",
    "    "
   ]
  },
  {
   "cell_type": "code",
   "execution_count": 46,
   "metadata": {
    "collapsed": false
   },
   "outputs": [
    {
     "name": "stdout",
     "output_type": "stream",
     "text": [
      "Coding time of the second 0: tc = 0mn 34s\n",
      "\n",
      "Decoding time of the second 0 and max iterations =1 : td = 38mn 53s\n",
      "\n"
     ]
    }
   ],
   "source": [
    "if 1:\n",
    "    cut = cuts + \"cut5-10/\"\n",
    "\n",
    "\n",
    "    freq,sample = wavfile.read(cut+\"sample.wav\")    \n",
    "    sample_bin = ldpc_sound.Audio2Bin(sample)\n",
    "\n",
    "    tc = time()\n",
    "    coded,noisy= ldpc_sound.SoundCoding(G,sample_bin,snr)\n",
    "    tc = time()-tc\n",
    "\n",
    "    wavfile.write(cut+\"snr=\"+str(snr)+\"/max_iter=\"+str(max_iter)+\"/noisy/noisy.wav\",freq,noisy)\n",
    "\n",
    "    print(\"Coding time of the second {}: tc = {}mn {}s\\n\".format(second, int(tc//60),int(tc%60)))\n",
    "\n",
    "    td = time()\n",
    "    decoded = ldpc_sound.SoundDecoding(G,H,coded,snr,max_iter)   \n",
    "    td = time()-td\n",
    "\n",
    "    wavfile.write(cut+\"snr=\"+str(snr)+\"/max_iter=\"+str(max_iter)+\"/decoded/decoded.wav\",freq,decoded)\n",
    "\n",
    "    print(\"Decoding time of the second {} and max iterations ={} : td = {}mn {}s\\n\".format(second,max_iter, int(td//60),int(td%60)))\n",
    "\n",
    "    "
   ]
  },
  {
   "cell_type": "code",
   "execution_count": 47,
   "metadata": {
    "collapsed": false
   },
   "outputs": [
    {
     "name": "stdout",
     "output_type": "stream",
     "text": [
      "Coding time of the second 0: tc = 0mn 34s\n",
      "\n",
      "Decoding time of the second 0 and max iterations =1 : td = 38mn 54s\n",
      "\n"
     ]
    }
   ],
   "source": [
    "if 1:\n",
    "    cut = cuts + \"cut10-15/\"\n",
    "\n",
    "\n",
    "    freq,sample = wavfile.read(cut+\"sample.wav\")    \n",
    "    sample_bin = ldpc_sound.Audio2Bin(sample)\n",
    "\n",
    "    tc = time()\n",
    "    coded,noisy= ldpc_sound.SoundCoding(G,sample_bin,snr)\n",
    "    tc = time()-tc\n",
    "\n",
    "    wavfile.write(cut+\"snr=\"+str(snr)+\"/max_iter=\"+str(max_iter)+\"/noisy/noisy.wav\",freq,noisy)\n",
    "\n",
    "    print(\"Coding time of the second {}: tc = {}mn {}s\\n\".format(second, int(tc//60),int(tc%60)))\n",
    "\n",
    "    td = time()\n",
    "    decoded = ldpc_sound.SoundDecoding(G,H,coded,snr,max_iter)   \n",
    "    td = time()-td\n",
    "\n",
    "    wavfile.write(cut+\"snr=\"+str(snr)+\"/max_iter=\"+str(max_iter)+\"/decoded/decoded.wav\",freq,decoded)\n",
    "\n",
    "    print(\"Decoding time of the second {} and max iterations ={} : td = {}mn {}s\\n\".format(second,max_iter, int(td//60),int(td%60)))\n",
    "\n",
    "    "
   ]
  },
  {
   "cell_type": "code",
   "execution_count": 48,
   "metadata": {
    "collapsed": false
   },
   "outputs": [
    {
     "name": "stdout",
     "output_type": "stream",
     "text": [
      "Coding time of the second 0: tc = 0mn 33s\n",
      "\n",
      "Decoding time of the second 0 and max iterations =1 : td = 38mn 36s\n",
      "\n"
     ]
    }
   ],
   "source": [
    "if 1:\n",
    "    cut = cuts + \"cut15-20/\"\n",
    "\n",
    "\n",
    "    freq,sample = wavfile.read(cut+\"sample.wav\")    \n",
    "    sample_bin = ldpc_sound.Audio2Bin(sample)\n",
    "\n",
    "    tc = time()\n",
    "    coded,noisy= ldpc_sound.SoundCoding(G,sample_bin,snr)\n",
    "    tc = time()-tc\n",
    "\n",
    "    wavfile.write(cut+\"snr=\"+str(snr)+\"/max_iter=\"+str(max_iter)+\"/noisy/noisy.wav\",freq,noisy)\n",
    "\n",
    "    print(\"Coding time of the second {}: tc = {}mn {}s\\n\".format(second, int(tc//60),int(tc%60)))\n",
    "\n",
    "    td = time()\n",
    "    decoded = ldpc_sound.SoundDecoding(G,H,coded,snr,max_iter)   \n",
    "    td = time()-td\n",
    "\n",
    "    wavfile.write(cut+\"snr=\"+str(snr)+\"/max_iter=\"+str(max_iter)+\"/decoded/decoded.wav\",freq,decoded)\n",
    "\n",
    "    print(\"Decoding time of the second {} and max iterations ={} : td = {}mn {}s\\n\".format(second,max_iter, int(td//60),int(td%60)))\n",
    "\n",
    "    "
   ]
  },
  {
   "cell_type": "code",
   "execution_count": null,
   "metadata": {
    "collapsed": false
   },
   "outputs": [],
   "source": [
    "if 1:\n",
    "    cut = cuts + \"cut20-25/\"\n",
    "\n",
    "\n",
    "    freq,sample = wavfile.read(cut+\"sample.wav\")    \n",
    "    sample_bin = ldpc_sound.Audio2Bin(sample)\n",
    "\n",
    "    tc = time()\n",
    "    coded,noisy= ldpc_sound.SoundCoding(G,sample_bin,snr)\n",
    "    tc = time()-tc\n",
    "\n",
    "    wavfile.write(cut+\"snr=\"+str(snr)+\"/max_iter=\"+str(max_iter)+\"/noisy/noisy.wav\",freq,noisy)\n",
    "\n",
    "    print(\"Coding time of the second {}: tc = {}mn {}s\\n\".format(second, int(tc//60),int(tc%60)))\n",
    "\n",
    "    td = time()\n",
    "    decoded = ldpc_sound.SoundDecoding(G,H,coded,snr,max_iter)   \n",
    "    td = time()-td\n",
    "\n",
    "    wavfile.write(cut+\"snr=\"+str(snr)+\"/max_iter=\"+str(max_iter)+\"/decoded/decoded.wav\",freq,decoded)\n",
    "\n",
    "    print(\"Decoding time of the second {} and max iterations ={} : td = {}mn {}s\\n\".format(second,max_iter, int(td//60),int(td%60)))\n",
    "\n",
    "    "
   ]
  },
  {
   "cell_type": "code",
   "execution_count": null,
   "metadata": {
    "collapsed": false
   },
   "outputs": [],
   "source": [
    "if 1:\n",
    "    cut = cuts + \"cut25-30/\"\n",
    "\n",
    "\n",
    "    freq,sample = wavfile.read(cut+\"sample.wav\")    \n",
    "    sample_bin = ldpc_sound.Audio2Bin(sample)\n",
    "\n",
    "    tc = time()\n",
    "    coded,noisy= ldpc_sound.SoundCoding(G,sample_bin,snr)\n",
    "    tc = time()-tc\n",
    "\n",
    "    wavfile.write(cut+\"snr=\"+str(snr)+\"/max_iter=\"+str(max_iter)+\"/noisy/noisy.wav\",freq,noisy)\n",
    "\n",
    "    print(\"Coding time of the second {}: tc = {}mn {}s\\n\".format(second, int(tc//60),int(tc%60)))\n",
    "\n",
    "    td = time()\n",
    "    decoded = ldpc_sound.SoundDecoding(G,H,coded,snr,max_iter)   \n",
    "    td = time()-td\n",
    "\n",
    "    wavfile.write(cut+\"snr=\"+str(snr)+\"/max_iter=\"+str(max_iter)+\"/decoded/decoded.wav\",freq,decoded)\n",
    "\n",
    "    print(\"Decoding time of the second {} and max iterations ={} : td = {}mn {}s\\n\".format(second,max_iter, int(td//60),int(td%60)))\n",
    "\n",
    "    "
   ]
  },
  {
   "cell_type": "code",
   "execution_count": 53,
   "metadata": {
    "collapsed": false
   },
   "outputs": [
    {
     "name": "stdout",
     "output_type": "stream",
     "text": [
      "Coding time of the second 1: tc = 0mn 48s\n",
      "\n",
      "Decoding time of the second 1 and max iterations =1 : td = 41mn 18s\n",
      "\n"
     ]
    }
   ],
   "source": [
    "if 1:\n",
    "    cut = cuts + \"cut30-35/\"\n",
    "\n",
    "\n",
    "    freq,sample = wavfile.read(cut+\"sample.wav\")    \n",
    "    sample_bin = ldpc_sound.Audio2Bin(sample)\n",
    "\n",
    "    tc = time()\n",
    "    coded,noisy= ldpc_sound.SoundCoding(G,sample_bin,snr)\n",
    "    tc = time()-tc\n",
    "\n",
    "    wavfile.write(cut+\"snr=\"+str(snr)+\"/max_iter=\"+str(max_iter)+\"/noisy/noisy.wav\",freq,noisy)\n",
    "\n",
    "    print(\"Coding time of the second {}: tc = {}mn {}s\\n\".format(second, int(tc//60),int(tc%60)))\n",
    "\n",
    "    td = time()\n",
    "    decoded = ldpc_sound.SoundDecoding(G,H,coded,snr,max_iter)   \n",
    "    td = time()-td\n",
    "\n",
    "    wavfile.write(cut+\"snr=\"+str(snr)+\"/max_iter=\"+str(max_iter)+\"/decoded/decoded.wav\",freq,decoded)\n",
    "\n",
    "    print(\"Decoding time of the second {} and max iterations ={} : td = {}mn {}s\\n\".format(second,max_iter, int(td//60),int(td%60)))\n",
    "\n",
    "    "
   ]
  },
  {
   "cell_type": "code",
   "execution_count": 54,
   "metadata": {
    "collapsed": false
   },
   "outputs": [
    {
     "name": "stdout",
     "output_type": "stream",
     "text": [
      "Coding time of the second 1: tc = 0mn 36s\n",
      "\n",
      "Decoding time of the second 1 and max iterations =1 : td = 39mn 16s\n",
      "\n"
     ]
    }
   ],
   "source": [
    "if 1:\n",
    "    cut = cuts + \"cut35-40/\"\n",
    "\n",
    "\n",
    "    freq,sample = wavfile.read(cut+\"sample.wav\")    \n",
    "    sample_bin = ldpc_sound.Audio2Bin(sample)\n",
    "\n",
    "    tc = time()\n",
    "    coded,noisy= ldpc_sound.SoundCoding(G,sample_bin,snr)\n",
    "    tc = time()-tc\n",
    "\n",
    "    wavfile.write(cut+\"snr=\"+str(snr)+\"/max_iter=\"+str(max_iter)+\"/noisy/noisy.wav\",freq,noisy)\n",
    "\n",
    "    print(\"Coding time of the second {}: tc = {}mn {}s\\n\".format(second, int(tc//60),int(tc%60)))\n",
    "\n",
    "    td = time()\n",
    "    decoded = ldpc_sound.SoundDecoding(G,H,coded,snr,max_iter)   \n",
    "    td = time()-td\n",
    "\n",
    "    wavfile.write(cut+\"snr=\"+str(snr)+\"/max_iter=\"+str(max_iter)+\"/decoded/decoded.wav\",freq,decoded)\n",
    "\n",
    "    print(\"Decoding time of the second {} and max iterations ={} : td = {}mn {}s\\n\".format(second,max_iter, int(td//60),int(td%60)))\n",
    "\n",
    "    "
   ]
  },
  {
   "cell_type": "code",
   "execution_count": 55,
   "metadata": {
    "collapsed": false
   },
   "outputs": [
    {
     "name": "stdout",
     "output_type": "stream",
     "text": [
      "Coding time of the second 1: tc = 0mn 39s\n",
      "\n",
      "Decoding time of the second 1 and max iterations =1 : td = 40mn 38s\n",
      "\n"
     ]
    }
   ],
   "source": [
    "if 1:\n",
    "    cut = cuts + \"cut40-45/\"\n",
    "\n",
    "\n",
    "    freq,sample = wavfile.read(cut+\"sample.wav\")    \n",
    "    sample_bin = ldpc_sound.Audio2Bin(sample)\n",
    "\n",
    "    tc = time()\n",
    "    coded,noisy= ldpc_sound.SoundCoding(G,sample_bin,snr)\n",
    "    tc = time()-tc\n",
    "\n",
    "    wavfile.write(cut+\"snr=\"+str(snr)+\"/max_iter=\"+str(max_iter)+\"/noisy/noisy.wav\",freq,noisy)\n",
    "\n",
    "    print(\"Coding time of the second {}: tc = {}mn {}s\\n\".format(second, int(tc//60),int(tc%60)))\n",
    "\n",
    "    td = time()\n",
    "    decoded = ldpc_sound.SoundDecoding(G,H,coded,snr,max_iter)   \n",
    "    td = time()-td\n",
    "\n",
    "    wavfile.write(cut+\"snr=\"+str(snr)+\"/max_iter=\"+str(max_iter)+\"/decoded/decoded.wav\",freq,decoded)\n",
    "\n",
    "    print(\"Decoding time of the second {} and max iterations ={} : td = {}mn {}s\\n\".format(second,max_iter, int(td//60),int(td%60)))\n",
    "\n",
    "    "
   ]
  },
  {
   "cell_type": "code",
   "execution_count": 56,
   "metadata": {
    "collapsed": false
   },
   "outputs": [
    {
     "name": "stdout",
     "output_type": "stream",
     "text": [
      "Coding time of the second 1: tc = 0mn 41s\n",
      "\n",
      "Decoding time of the second 1 and max iterations =1 : td = 45mn 41s\n",
      "\n"
     ]
    }
   ],
   "source": [
    "if 1:\n",
    "    cut = cuts + \"cut45-50/\"\n",
    "\n",
    "\n",
    "    freq,sample = wavfile.read(cut+\"sample.wav\")    \n",
    "    sample_bin = ldpc_sound.Audio2Bin(sample)\n",
    "\n",
    "    tc = time()\n",
    "    coded,noisy= ldpc_sound.SoundCoding(G,sample_bin,snr)\n",
    "    tc = time()-tc\n",
    "\n",
    "    wavfile.write(cut+\"snr=\"+str(snr)+\"/max_iter=\"+str(max_iter)+\"/noisy/noisy.wav\",freq,noisy)\n",
    "\n",
    "    print(\"Coding time of the second {}: tc = {}mn {}s\\n\".format(second, int(tc//60),int(tc%60)))\n",
    "\n",
    "    td = time()\n",
    "    decoded = ldpc_sound.SoundDecoding(G,H,coded,snr,max_iter)   \n",
    "    td = time()-td\n",
    "\n",
    "    wavfile.write(cut+\"snr=\"+str(snr)+\"/max_iter=\"+str(max_iter)+\"/decoded/decoded.wav\",freq,decoded)\n",
    "\n",
    "    print(\"Decoding time of the second {} and max iterations ={} : td = {}mn {}s\\n\".format(second,max_iter, int(td//60),int(td%60)))\n",
    "\n",
    "    "
   ]
  },
  {
   "cell_type": "code",
   "execution_count": 57,
   "metadata": {
    "collapsed": false
   },
   "outputs": [
    {
     "name": "stdout",
     "output_type": "stream",
     "text": [
      "Coding time of the second 1: tc = 0mn 56s\n",
      "\n",
      "Decoding time of the second 1 and max iterations =1 : td = 43mn 56s\n",
      "\n"
     ]
    }
   ],
   "source": [
    "if 1:\n",
    "    cut = cuts + \"cut50-55/\"\n",
    "\n",
    "\n",
    "    freq,sample = wavfile.read(cut+\"sample.wav\")    \n",
    "    sample_bin = ldpc_sound.Audio2Bin(sample)\n",
    "\n",
    "    tc = time()\n",
    "    coded,noisy= ldpc_sound.SoundCoding(G,sample_bin,snr)\n",
    "    tc = time()-tc\n",
    "\n",
    "    wavfile.write(cut+\"snr=\"+str(snr)+\"/max_iter=\"+str(max_iter)+\"/noisy/noisy.wav\",freq,noisy)\n",
    "\n",
    "    print(\"Coding time of the second {}: tc = {}mn {}s\\n\".format(second, int(tc//60),int(tc%60)))\n",
    "\n",
    "    td = time()\n",
    "    decoded = ldpc_sound.SoundDecoding(G,H,coded,snr,max_iter)   \n",
    "    td = time()-td\n",
    "\n",
    "    wavfile.write(cut+\"snr=\"+str(snr)+\"/max_iter=\"+str(max_iter)+\"/decoded/decoded.wav\",freq,decoded)\n",
    "\n",
    "    print(\"Decoding time of the second {} and max iterations ={} : td = {}mn {}s\\n\".format(second,max_iter, int(td//60),int(td%60)))\n",
    "\n",
    "    "
   ]
  },
  {
   "cell_type": "code",
   "execution_count": 58,
   "metadata": {
    "collapsed": false
   },
   "outputs": [
    {
     "name": "stdout",
     "output_type": "stream",
     "text": [
      "Coding time of the second 1: tc = 0mn 36s\n",
      "\n",
      "Decoding time of the second 1 and max iterations =1 : td = 53mn 15s\n",
      "\n"
     ]
    }
   ],
   "source": [
    "if 1:\n",
    "    cut = cuts + \"cut55-60/\"\n",
    "\n",
    "\n",
    "    freq,sample = wavfile.read(cut+\"sample.wav\")    \n",
    "    sample_bin = ldpc_sound.Audio2Bin(sample)\n",
    "\n",
    "    tc = time()\n",
    "    coded,noisy= ldpc_sound.SoundCoding(G,sample_bin,snr)\n",
    "    tc = time()-tc\n",
    "\n",
    "    wavfile.write(cut+\"snr=\"+str(snr)+\"/max_iter=\"+str(max_iter)+\"/noisy/noisy.wav\",freq,noisy)\n",
    "\n",
    "    print(\"Coding time of the second {}: tc = {}mn {}s\\n\".format(second, int(tc//60),int(tc%60)))\n",
    "\n",
    "    td = time()\n",
    "    decoded = ldpc_sound.SoundDecoding(G,H,coded,snr,max_iter)   \n",
    "    td = time()-td\n",
    "\n",
    "    wavfile.write(cut+\"snr=\"+str(snr)+\"/max_iter=\"+str(max_iter)+\"/decoded/decoded.wav\",freq,decoded)\n",
    "\n",
    "    print(\"Decoding time of the second {} and max iterations ={} : td = {}mn {}s\\n\".format(second,max_iter, int(td//60),int(td%60)))\n",
    "\n",
    "    "
   ]
  },
  {
   "cell_type": "code",
   "execution_count": null,
   "metadata": {
    "collapsed": true
   },
   "outputs": [],
   "source": []
  }
 ],
 "metadata": {
  "kernelspec": {
   "display_name": "Python 3",
   "language": "python",
   "name": "python3"
  },
  "language_info": {
   "codemirror_mode": {
    "name": "ipython",
    "version": 3
   },
   "file_extension": ".py",
   "mimetype": "text/x-python",
   "name": "python",
   "nbconvert_exporter": "python",
   "pygments_lexer": "ipython3",
   "version": "3.4.3"
  }
 },
 "nbformat": 4,
 "nbformat_minor": 0
}
