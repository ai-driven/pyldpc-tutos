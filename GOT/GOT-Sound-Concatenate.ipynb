{
 "cells": [
  {
   "cell_type": "markdown",
   "metadata": {},
   "source": [
    "# GOT - MUSIC - CONCATENATE"
   ]
  },
  {
   "cell_type": "code",
   "execution_count": 6,
   "metadata": {
    "collapsed": true
   },
   "outputs": [],
   "source": [
    "import os \n",
    "from scipy.io import wavfile\n",
    "import numpy as np"
   ]
  },
  {
   "cell_type": "code",
   "execution_count": 33,
   "metadata": {
    "collapsed": true
   },
   "outputs": [],
   "source": [
    "snr = 9 \n",
    "max_iter = 1\n",
    "freq, got = wavfile.read(\"GOT/Music/got.wav\")"
   ]
  },
  {
   "cell_type": "code",
   "execution_count": 52,
   "metadata": {
    "collapsed": false
   },
   "outputs": [
    {
     "name": "stdout",
     "output_type": "stream",
     "text": [
      "cut0-5\n",
      "cut5-10\n",
      "cut10-15\n",
      "cut15-20\n",
      "cut20-25\n",
      "cut25-30\n",
      "cut30-35\n",
      "cut35-40\n",
      "cut40-45\n",
      "cut45-50\n",
      "cut50-55\n",
      "cut55-60\n",
      "cut0-5\n",
      "cut5-10\n",
      "cut10-15\n",
      "cut15-20\n",
      "cut20-25\n",
      "cut25-30\n",
      "cut30-35\n",
      "cut35-40\n",
      "cut40-45\n",
      "cut45-50\n",
      "cut50-55\n",
      "cut55-60\n"
     ]
    }
   ],
   "source": [
    "folder_source = \"GOT/Music/\"\n",
    "cuts = folder_source + \"cuts/\"\n",
    "element_noisy =  \"snr=\"+str(snr)+\"/max_iter=\"+str(max_iter)+\"/noisy/noisy.wav\"\n",
    "element_decoded = \"snr=\"+str(snr)+\"/max_iter=\"+str(max_iter)+ \"/decoded/decoded.wav\"\n",
    "\n",
    "got_noisy = np.array([],dtype=np.int16)\n",
    "for path,dirs,elements in os.walk(cuts):\n",
    "    break\n",
    "    \n",
    "sorted_files = sorted(dirs, key=lambda x: int(x.split('-')[1]))\n",
    "\n",
    "for folder in sorted_files:\n",
    "    if \"c\" in folder.split(\"u\"):\n",
    "        if int(folder.split(\"-\")[1])>60:\n",
    "            break\n",
    "        \n",
    "        print(folder)\n",
    "        got_noisy = np.concatenate((got_noisy,wavfile.read(cuts +  folder +\"/\"+element_noisy)[1]))\n",
    "\n",
    "wavfile.write(folder_source+\"noisy/snr=\"+str(snr)+\"/60.wav\",freq,got_noisy)\n",
    "\n",
    "got_decoded = np.array([],dtype=np.int16)\n",
    "\n",
    "for folder in sorted_files:\n",
    "    if \"c\" in folder.split(\"u\"):\n",
    "        if int(folder.split(\"-\")[1])>60:\n",
    "            break\n",
    "        print(folder)\n",
    "        got_decoded = np.concatenate((got_decoded,wavfile.read(cuts + folder + \"/\"+ element_decoded)[1]))\n",
    "\n",
    "wavfile.write(folder_source+\"decoded/\"+\"max_iter=\"+str(max_iter)+\"/60.wav\",freq,got_decoded)\n"
   ]
  },
  {
   "cell_type": "code",
   "execution_count": 32,
   "metadata": {
    "collapsed": true
   },
   "outputs": [],
   "source": [
    "from pyldpc import ldpc_sound"
   ]
  },
  {
   "cell_type": "code",
   "execution_count": 48,
   "metadata": {
    "collapsed": false
   },
   "outputs": [
    {
     "data": {
      "text/plain": [
       "1.0996991389148253e-05"
      ]
     },
     "execution_count": 48,
     "metadata": {},
     "output_type": "execute_result"
    }
   ],
   "source": [
    "ldpc_sound.BER_audio(ldpc_sound.Audio2Bin(got[:45*freq]),ldpc_sound.Audio2Bin(got_decoded))"
   ]
  },
  {
   "cell_type": "code",
   "execution_count": 42,
   "metadata": {
    "collapsed": true
   },
   "outputs": [],
   "source": []
  },
  {
   "cell_type": "code",
   "execution_count": null,
   "metadata": {
    "collapsed": true
   },
   "outputs": [],
   "source": []
  }
 ],
 "metadata": {
  "kernelspec": {
   "display_name": "Python 3",
   "language": "python",
   "name": "python3"
  },
  "language_info": {
   "codemirror_mode": {
    "name": "ipython",
    "version": 3
   },
   "file_extension": ".py",
   "mimetype": "text/x-python",
   "name": "python",
   "nbconvert_exporter": "python",
   "pygments_lexer": "ipython3",
   "version": "3.4.3"
  }
 },
 "nbformat": 4,
 "nbformat_minor": 0
}
