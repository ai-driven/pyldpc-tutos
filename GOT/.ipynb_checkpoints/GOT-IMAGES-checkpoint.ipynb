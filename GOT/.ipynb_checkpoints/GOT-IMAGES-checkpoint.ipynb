{
 "cells": [
  {
   "cell_type": "markdown",
   "metadata": {},
   "source": [
    "# GOT - IMAGES"
   ]
  },
  {
   "cell_type": "code",
   "execution_count": 1,
   "metadata": {
    "collapsed": true
   },
   "outputs": [],
   "source": [
    "import numpy as np\n",
    "import pickle\n",
    "from IPython.display import display, HTML\n",
    "import pyldpc\n",
    "from pyldpc import ldpc_images\n",
    "from time import time\n",
    "import cv2\n",
    "from shutil import copytree\n",
    "from scipy.sparse import csr_matrix\n",
    "from scipy import sparse\n",
    "import os\n",
    "frames = \"Video/frames/\""
   ]
  },
  {
   "cell_type": "code",
   "execution_count": 2,
   "metadata": {
    "collapsed": false
   },
   "outputs": [],
   "source": [
    "def ref_frame(number):\n",
    "    \n",
    "    string = [\"0\"for i in range(5)]\n",
    "    number_list = list(str(number))\n",
    "    length = len(number_list)\n",
    "    \n",
    "    j = 4\n",
    "    \n",
    "    for i in reversed(range(length)):\n",
    "        string[j] = number_list[i]\n",
    "        j=j-1\n",
    "    \n",
    "                       \n",
    "    return \"\".join(string)"
   ]
  },
  {
   "cell_type": "code",
   "execution_count": 26,
   "metadata": {
    "collapsed": false
   },
   "outputs": [
    {
     "name": "stdout",
     "output_type": "stream",
     "text": [
      "5760\n",
      "Time of construction 336.9610290527344\n"
     ]
    }
   ],
   "source": [
    "if 1:   \n",
    "    n = 17277\n",
    "    d_c = 3\n",
    "    d_v = 2\n",
    "    t=time()\n",
    "    H = pyldpc.RegularH(n,d_v,d_c)\n",
    "    H,tG = pyldpc.CodingMatrix_systematic(H)\n",
    "    tGs = sparse.csr_matrix(tG)\n",
    "    Hs = sparse.csr_matrix(H)\n",
    "    tH = np.transpose(H)\n",
    "    tHs = csr_matrix(tH)\n",
    "    k = tG.shape[1]\n",
    "    print(k)\n",
    "    print(\"Time of construction\",time()-t)"
   ]
  },
  {
   "cell_type": "code",
   "execution_count": 51,
   "metadata": {
    "collapsed": false
   },
   "outputs": [],
   "source": [
    "if 0:\n",
    "    with open('../Matrices/1-3/7680/Hs','wb') as Hfile:\n",
    "        pickler = pickle.Pickler(Hfile)\n",
    "        pickler.dump(Hs)\n",
    "\n",
    "    with open('../Matrices/1-3/7680/tGs','wb') as Gfile:\n",
    "        pickler = pickle.Pickler(Gfile)\n",
    "        pickler.dump(tGs)"
   ]
  },
  {
   "cell_type": "code",
   "execution_count": 107,
   "metadata": {
    "collapsed": true
   },
   "outputs": [],
   "source": [
    "if 0: \n",
    "    with open('../Matrices/1-3/5760/Hs','rb') as Hfile:\n",
    "        unpickler = pickle.Unpickler(Hfile)\n",
    "        Hs1 = unpickler.load()\n",
    "\n",
    "    with open('../Matrices/1-3/5760/tGs','rb') as Gfile:\n",
    "        unpickler = pickle.Unpickler(Gfile)\n",
    "        tGs1 = unpickler.load()\n",
    "\n",
    "    tHs1 = csr_matrix(np.transpose(Hs1.toarray()))"
   ]
  },
  {
   "cell_type": "code",
   "execution_count": 113,
   "metadata": {
    "collapsed": true
   },
   "outputs": [],
   "source": [
    "if 1: \n",
    "    with open('../Matrices/1-3/7680/Hs','rb') as Hfile:\n",
    "        unpickler = pickle.Unpickler(Hfile)\n",
    "        Hs1 = unpickler.load()\n",
    "\n",
    "    with open('../Matrices/1-3/7680/tGs','rb') as Gfile:\n",
    "        unpickler = pickle.Unpickler(Gfile)\n",
    "        tGs1 = unpickler.load()\n",
    "\n",
    "    tHs1 = csr_matrix(np.transpose(Hs1.toarray()))"
   ]
  },
  {
   "cell_type": "code",
   "execution_count": 114,
   "metadata": {
    "collapsed": false
   },
   "outputs": [
    {
     "data": {
      "text/plain": [
       "(15358, 23037)"
      ]
     },
     "execution_count": 114,
     "metadata": {},
     "output_type": "execute_result"
    }
   ],
   "source": [
    "m,n = Hs1.shape\n",
    "m,n"
   ]
  },
  {
   "cell_type": "markdown",
   "metadata": {
    "collapsed": false
   },
   "source": [
    "### Frame one 00001.png "
   ]
  },
  {
   "cell_type": "code",
   "execution_count": 111,
   "metadata": {
    "collapsed": false
   },
   "outputs": [
    {
     "data": {
      "text/plain": [
       "7680"
      ]
     },
     "execution_count": 111,
     "metadata": {},
     "output_type": "execute_result"
    }
   ],
   "source": [
    "320*24"
   ]
  },
  {
   "cell_type": "code",
   "execution_count": 5,
   "metadata": {
    "collapsed": false
   },
   "outputs": [],
   "source": [
    "number = 1\n",
    "if 1:\n",
    "    frame_path = frames + ref_frame(number) + \".png\"\n",
    "    frame = cv2.imread(frame_path)\n",
    "    frame_bin = ldpc_images.RGB2Bin(frame)\n",
    "w = 1280\n",
    "frame_bin_list = []\n",
    "frame_bin_list.append(frame_bin[:,:w//4,:]) \n",
    "#frame_bin_list.append(frame_bin[:,w//4:w//2,:]) \n",
    "#frame_bin_list.append(frame_bin[:,w//2:3*w//4,:]) "
   ]
  },
  {
   "cell_type": "code",
   "execution_count": 147,
   "metadata": {
    "collapsed": false
   },
   "outputs": [
    {
     "name": "stdout",
     "output_type": "stream",
     "text": [
      "Coding Time of on third of 720p  frame: 0.0 mn 0.6855080127716064 seconds\n"
     ]
    },
    {
     "data": {
      "text/html": [
       "<img src=\"Video/noisy/snr=3/000011.png\">"
      ],
      "text/plain": [
       "<IPython.core.display.HTML object>"
      ]
     },
     "metadata": {},
     "output_type": "display_data"
    }
   ],
   "source": [
    "number = 1 \n",
    "snr = 3\n",
    "frame_coded_list=[]\n",
    "if 1:\n",
    "    for i,frame_slice in enumerate(frame_bin_list):\n",
    "        t = time()\n",
    "        frame_coded,frame_noisy = ldpc_images.ImageCoding_rowbyrow(tGs1,frame_slice[-1:],snr)\n",
    "        t = time()-t\n",
    "        frame_coded_list.append(frame_coded)\n",
    "        cv2.imwrite( \"Video/noisy/snr=\"+str(snr)+\"/\" + ref_frame(number) +str(i)+ \".png\",frame_noisy) \n",
    "        print(\"Coding Time of on third of 720p  frame: {} mn {} seconds\".format((t//60),(t%60)))\n",
    "        display(HTML('''<img src=\"Video/noisy/snr=''' +str(snr)+\"/\" + ref_frame(number) +str(number)+ \".png\"+'''\">'''))"
   ]
  },
  {
   "cell_type": "code",
   "execution_count": 148,
   "metadata": {
    "collapsed": false
   },
   "outputs": [
    {
     "name": "stdout",
     "output_type": "stream",
     "text": [
      "Decoding time for 0 iterations and snr = 3 is : 23.786272048950195\n"
     ]
    },
    {
     "data": {
      "text/html": [
       "<img src=\"Video/decoded/snr=3/max_iter=0/000010.png\">"
      ],
      "text/plain": [
       "<IPython.core.display.HTML object>"
      ]
     },
     "metadata": {},
     "output_type": "display_data"
    },
    {
     "name": "stdout",
     "output_type": "stream",
     "text": [
      "Bit Error Rate in %: 2.01822916667 %\n"
     ]
    }
   ],
   "source": [
    "decode = 1\n",
    "max_iter = 0\n",
    "if decode:\n",
    "    for i, frame_coded in enumerate(frame_coded_list):\n",
    "        t = time()\n",
    "        frame_decoded = ldpc_images.ImageDecoding_rowbyrow(tGs1,Hs1,frame_coded[-2:],snr,max_iter)\n",
    "        cv2.imwrite(\"Video/decoded/snr=\"+str(snr)+\"/max_iter=\" + str(max_iter)+\"/\"+ ref_frame(number) + str(i)+  \".png\",frame_decoded)\n",
    "        t = time() - t\n",
    "        #print(\"Decoding time for {} iterations and snr = {} is : {}h {}mn: \".format(max_iter,snr,t//3600,(t%3600)//60)) \n",
    "        print(\"Decoding time for {} iterations and snr = {} is : {}\".format(max_iter,snr,t)) \n",
    "\n",
    "        display(HTML('''<img src=\"Video/decoded/snr='''+str(snr)+\"/max_iter=\" + str(max_iter)+\"/\"+ ref_frame(number) + str(i)+ \".png\"+'''\">'''))\n",
    "        print(\"Bit Error Rate in %:\", 100*ldpc_images.BER(frame_bin_list[i][-1:],ldpc_images.RGB2Bin(frame_decoded)),\"%\")"
   ]
  },
  {
   "cell_type": "code",
   "execution_count": 149,
   "metadata": {
    "collapsed": false
   },
   "outputs": [
    {
     "data": {
      "text/plain": [
       "17280"
      ]
     },
     "execution_count": 149,
     "metadata": {},
     "output_type": "execute_result"
    }
   ],
   "source": []
  },
  {
   "cell_type": "code",
   "execution_count": 155,
   "metadata": {
    "collapsed": false
   },
   "outputs": [],
   "source": [
    "number = 1\n",
    "if 1:\n",
    "    frame_path = frames + ref_frame(number) + \".png\"\n",
    "    frame = cv2.imread(frame_path)\n",
    "    frame_bin = ldpc_images.RGB2Bin(frame)\n"
   ]
  },
  {
   "cell_type": "code",
   "execution_count": 168,
   "metadata": {
    "collapsed": false
   },
   "outputs": [
    {
     "name": "stdout",
     "output_type": "stream",
     "text": [
      "48\n",
      "Time of construction 0.03924918174743652\n"
     ]
    }
   ],
   "source": [
    "if 1:   \n",
    "    n = 184\n",
    "    d_c = 4\n",
    "    d_v = 3\n",
    "    t=time()\n",
    "    H = pyldpc.RegularH(n,d_v,d_c)\n",
    "    H,tG = pyldpc.CodingMatrix_systematic(H)\n",
    "    tGs = sparse.csr_matrix(tG)\n",
    "    Hs = sparse.csr_matrix(H)\n",
    "    tH = np.transpose(H)\n",
    "    tHs = csr_matrix(tH)\n",
    "    k = tG.shape[1]\n",
    "    print(k)\n",
    "    print(\"Time of construction\",time()-t)"
   ]
  },
  {
   "cell_type": "code",
   "execution_count": 167,
   "metadata": {
    "collapsed": false
   },
   "outputs": [
    {
     "data": {
      "text/plain": [
       "192"
      ]
     },
     "execution_count": 167,
     "metadata": {},
     "output_type": "execute_result"
    }
   ],
   "source": [
    "2*24*4"
   ]
  },
  {
   "cell_type": "code",
   "execution_count": 141,
   "metadata": {
    "collapsed": false
   },
   "outputs": [
    {
     "name": "stdout",
     "output_type": "stream",
     "text": [
      "24\n"
     ]
    }
   ],
   "source": [
    "if 1:   \n",
    "    ntest = 69\n",
    "    d_ctest = 3\n",
    "    d_vtest = 2\n",
    "    Htest = pyldpc.RegularH(ntest,d_vtest,d_ctest)\n",
    "    Htest,tGtest = pyldpc.CodingMatrix_systematic(Htest)\n",
    "    tGstest = sparse.csr_matrix(tGtest)\n",
    "    Hstest = sparse.csr_matrix(Htest)\n",
    "    tHstest = sparse.csr_matrix(Htest.T)\n",
    "    ktest = tGtest.shape[1]\n",
    "    print(ktest)\n"
   ]
  },
  {
   "cell_type": "code",
   "execution_count": 158,
   "metadata": {
    "collapsed": false
   },
   "outputs": [
    {
     "name": "stdout",
     "output_type": "stream",
     "text": [
      "Coding Time of on third of 720p  frame: 1.0 mn 38.16717195510864 seconds\n"
     ]
    },
    {
     "data": {
      "text/html": [
       "<img src=\"Video/noisy/snr=6/00001.png\">"
      ],
      "text/plain": [
       "<IPython.core.display.HTML object>"
      ]
     },
     "metadata": {},
     "output_type": "display_data"
    }
   ],
   "source": [
    "number = 1 \n",
    "snr = 6\n",
    "frame_coded_list=[]\n",
    "if 1:\n",
    "    t = time()\n",
    "    frame_coded,frame_noisy = ldpc_images.ImageCoding(tGtest,frame_bin,snr)\n",
    "    t = time()-t\n",
    "    frame_coded_list.append(frame_coded)\n",
    "    cv2.imwrite( \"Video/noisy/snr=\"+str(snr)+\"/\" + ref_frame(number)+\".png\",frame_noisy) \n",
    "    print(\"Coding Time of on third of 720p  frame: {} mn {} seconds\".format((t//60),(t%60)))\n",
    "    display(HTML('''<img src=\"Video/noisy/snr=''' +str(snr)+\"/\" + ref_frame(number) + \".png\"+'''\">'''))"
   ]
  },
  {
   "cell_type": "code",
   "execution_count": 160,
   "metadata": {
    "collapsed": false
   },
   "outputs": [
    {
     "name": "stdout",
     "output_type": "stream",
     "text": [
      "Decoding time for 1000 iterations and snr = 6 is : 0.0h 51.0mn: \n"
     ]
    },
    {
     "data": {
      "text/html": [
       "<img src=\"Video/decoded/snr=6/max_iter=1000/00001.png\">"
      ],
      "text/plain": [
       "<IPython.core.display.HTML object>"
      ]
     },
     "metadata": {},
     "output_type": "display_data"
    },
    {
     "name": "stdout",
     "output_type": "stream",
     "text": [
      "Bit Error Rate in %: 0.00189435040509 %\n"
     ]
    }
   ],
   "source": [
    "decode = 0\n",
    "max_iter = 1000\n",
    "if decode:\n",
    "    for i, frame_coded in enumerate(frame_coded_list):\n",
    "        t = time()\n",
    "        frame_decoded = ldpc_images.ImageDecoding(tGtest,Htest,frame_coded,snr,max_iter)\n",
    "        cv2.imwrite(\"Video/decoded/snr=\"+str(snr)+\"/max_iter=\" + str(max_iter)+\"/\"+ ref_frame(number) + \".png\",frame_decoded)\n",
    "        t = time() - t\n",
    "print(\"Decoding time for {} iterations and snr = {} is : {}h {}mn: \".format(max_iter,snr,t//3600,(t%3600)//60)) \n",
    "\n",
    "display(HTML('''<img src=\"Video/decoded/snr='''+str(snr)+\"/max_iter=\" + str(max_iter)+\"/\"+ ref_frame(number) +  \".png\"+'''\">'''))\n",
    "print(\"Bit Error Rate in %:\", 100*ldpc_images.BER(frame_bin,ldpc_images.RGB2Bin(frame_decoded)),\"%\")"
   ]
  },
  {
   "cell_type": "code",
   "execution_count": 161,
   "metadata": {
    "collapsed": false
   },
   "outputs": [
    {
     "name": "stdout",
     "output_type": "stream",
     "text": [
      "Coding Time of on third of 720p  frame: 1.0 mn 18.62576699256897 seconds\n"
     ]
    },
    {
     "data": {
      "text/html": [
       "<img src=\"Video/noisy/snr=7/00001.png\">"
      ],
      "text/plain": [
       "<IPython.core.display.HTML object>"
      ]
     },
     "metadata": {},
     "output_type": "display_data"
    }
   ],
   "source": [
    "number = 1 \n",
    "snr = 7\n",
    "frame_coded_list=[]\n",
    "if 1:\n",
    "    t = time()\n",
    "    frame_coded,frame_noisy = ldpc_images.ImageCoding(tGtest,frame_bin,snr)\n",
    "    t = time()-t\n",
    "    frame_coded_list.append(frame_coded)\n",
    "    cv2.imwrite( \"Viédeo/noisy/snr=\"+str(snr)+\"/\" + ref_frame(number)+\".png\",frame_noisy) \n",
    "    print(\"Coding Time of on third of 720p  frame: {} mn {} seconds\".format((t//60),(t%60)))\n",
    "    display(HTML('''<img src=\"Video/noisy/snr=''' +str(snr)+\"/\" + ref_frame(number) + \".png\"+'''\">'''))"
   ]
  },
  {
   "cell_type": "code",
   "execution_count": 164,
   "metadata": {
    "collapsed": false
   },
   "outputs": [
    {
     "name": "stdout",
     "output_type": "stream",
     "text": [
      "Decoding time for 1000 iterations and snr = 7 is : 0.0h 45.0mn: \n"
     ]
    },
    {
     "data": {
      "text/html": [
       "<img src=\"Video/decoded/snr=7/max_iter=1000/00001.png\">"
      ],
      "text/plain": [
       "<IPython.core.display.HTML object>"
      ]
     },
     "metadata": {},
     "output_type": "display_data"
    },
    {
     "name": "stdout",
     "output_type": "stream",
     "text": [
      "Bit Error Rate in %: 0.000140154803241 %\n"
     ]
    }
   ],
   "source": [
    "decode = 0\n",
    "max_iter = 1000\n",
    "if decode:\n",
    "    for i, frame_coded in enumerate(frame_coded_list):\n",
    "        t = time()\n",
    "        frame_decoded = ldpc_images.ImageDecoding(tGtest,Htest,frame_coded,snr,max_iter)\n",
    "        cv2.imwrite(\"Video/decoded/snr=\"+str(snr)+\"/max_iter=\" + str(max_iter)+\"/\"+ ref_frame(number) + \".png\",frame_decoded)\n",
    "        t = time() - t\n",
    "        print(\"Decoding time for {} iterations and snr = {} is : {}h {}mn: \".format(max_iter,snr,t//3600,(t%3600)//60)) \n",
    "\n",
    "        display(HTML('''<img src=\"Video/decoded/snr='''+str(snr)+\"/max_iter=\" + str(max_iter)+\"/\"+ ref_frame(number) +  \".png\"+'''\">'''))\n",
    "        print(\"Bit Error Rate in %:\", 100*ldpc_images.BER(frame_bin,ldpc_images.RGB2Bin(frame_decoded)),\"%\")"
   ]
  },
  {
   "cell_type": "code",
   "execution_count": 166,
   "metadata": {
    "collapsed": false
   },
   "outputs": [
    {
     "name": "stdout",
     "output_type": "stream",
     "text": [
      "24\n"
     ]
    }
   ],
   "source": [
    "if 1:   \n",
    "    ntest2 = 88\n",
    "    d_ctest2 = 4\n",
    "    d_vtest2 = 3\n",
    "    Htest2 = pyldpc.RegularH(ntest2,d_vtest2,d_ctest2)\n",
    "    Htest2,tGtest2 = pyldpc.CodingMatrix_systematic(Htest2)\n",
    "    tGstest2 = sparse.csr_matrix(tGtest2)\n",
    "    Hstest2 = sparse.csr_matrix(Htest2)\n",
    "    ktest2 = tGtest2.shape[1]\n",
    "    print(ktest2)\n"
   ]
  },
  {
   "cell_type": "code",
   "execution_count": 169,
   "metadata": {
    "collapsed": false
   },
   "outputs": [
    {
     "name": "stdout",
     "output_type": "stream",
     "text": [
      "Coding Time of on third of 720p  frame: 1.0 mn 21.163399934768677 seconds\n"
     ]
    },
    {
     "data": {
      "text/html": [
       "<img src=\"Video/noisy/snr=7/000011-4.png\">"
      ],
      "text/plain": [
       "<IPython.core.display.HTML object>"
      ]
     },
     "metadata": {},
     "output_type": "display_data"
    }
   ],
   "source": [
    "number = 1 \n",
    "snr = 7\n",
    "frame_coded_list=[]\n",
    "if 1:\n",
    "    t = time()\n",
    "    frame_coded,frame_noisy = ldpc_images.ImageCoding(tGtest2,frame_bin,snr)\n",
    "    t = time()-t\n",
    "    frame_coded_list.append(frame_coded)\n",
    "    cv2.imwrite( \"Viédeo/noisy/snr=\"+str(snr)+\"/\" + ref_frame(number)+\"1-4.png\",frame_noisy) \n",
    "    print(\"Coding Time of on third of 720p  frame: {} mn {} seconds\".format((t//60),(t%60)))\n",
    "    display(HTML('''<img src=\"Video/noisy/snr=''' +str(snr)+\"/\" + ref_frame(number) + \"1-4.png\"+'''\">'''))"
   ]
  },
  {
   "cell_type": "code",
   "execution_count": 176,
   "metadata": {
    "collapsed": false
   },
   "outputs": [
    {
     "name": "stdout",
     "output_type": "stream",
     "text": [
      "7.290818929672241\n"
     ]
    },
    {
     "data": {
      "text/html": [
       "<img src=\"Video/decoded/snr=7/max_iter=1/000011-4.png\">"
      ],
      "text/plain": [
       "<IPython.core.display.HTML object>"
      ]
     },
     "metadata": {},
     "output_type": "display_data"
    },
    {
     "name": "stdout",
     "output_type": "stream",
     "text": [
      "Bit Error Rate in %: 0.0 %\n"
     ]
    }
   ],
   "source": [
    "decode = 1\n",
    "max_iter = 1\n",
    "if decode:\n",
    "    for i, frame_coded in enumerate(frame_coded_list):\n",
    "        t = time()\n",
    "        frame_decoded = ldpc_images.ImageDecoding(tGtest2,Htest2,frame_coded[-1:],snr,max_iter)\n",
    "        #cv2.imwrite(\"Video/decoded/snr=\"+str(snr)+\"/max_iter=\" + str(max_iter)+\"/\"+ ref_frame(number) + \"1-4.png\",frame_decoded)\n",
    "        t = time() - t\n",
    "        #print(\"Decoding time for {} iterations and snr = {} is : {}h {}mn: \".format(max_iter,snr,t//3600,(t%3600)//60)) \n",
    "        print(t)\n",
    "        display(HTML('''<img src=\"Video/decoded/snr='''+str(snr)+\"/max_iter=\" + str(max_iter)+\"/\"+ ref_frame(number) +  \"1-4.png\"+'''\">'''))\n",
    "        print(\"Bit Error Rate in %:\", 100*ldpc_images.BER(frame_bin[:1],ldpc_images.RGB2Bin(frame_decoded)),\"%\")"
   ]
  },
  {
   "cell_type": "code",
   "execution_count": 178,
   "metadata": {
    "collapsed": false
   },
   "outputs": [
    {
     "name": "stdout",
     "output_type": "stream",
     "text": [
      "Decoding time for 1 iterations and snr = 7 is : 0.0h 0.0mn: \n",
      "7.415036916732788\n"
     ]
    },
    {
     "data": {
      "text/html": [
       "<img src=\"Video/decoded/snr=7/max_iter=1/000011-4.png\">"
      ],
      "text/plain": [
       "<IPython.core.display.HTML object>"
      ]
     },
     "metadata": {},
     "output_type": "display_data"
    },
    {
     "name": "stdout",
     "output_type": "stream",
     "text": [
      "Bit Error Rate in %: 0.0 %\n"
     ]
    }
   ],
   "source": [
    "decode = 1\n",
    "max_iter = 1\n",
    "if decode:\n",
    "    for i, frame_coded in enumerate(frame_coded_list):\n",
    "        t = time()\n",
    "        frame_decoded = ldpc_images.ImageDecoding(tGtest2,Hstest2,frame_coded[:1],snr,max_iter)\n",
    "        cv2.imwrite(\"Video/decoded/snr=\"+str(snr)+\"/max_iter=\" + str(max_iter)+\"/\"+ ref_frame(number) + \"1-4.png\",frame_decoded)\n",
    "        t = time() - t\n",
    "        print(\"Decoding time for {} iterations and snr = {} is : {}h {}mn: \".format(max_iter,snr,t//3600,(t%3600)//60)) \n",
    "        print(t)\n",
    "        display(HTML('''<img src=\"Video/decoded/snr='''+str(snr)+\"/max_iter=\" + str(max_iter)+\"/\"+ ref_frame(number) +  \"1-4.png\"+'''\">'''))\n",
    "        print(\"Bit Error Rate in %:\", 100*ldpc_images.BER(frame_bin[:1],ldpc_images.RGB2Bin(frame_decoded)),\"%\")"
   ]
  },
  {
   "cell_type": "code",
   "execution_count": null,
   "metadata": {
    "collapsed": true
   },
   "outputs": [],
   "source": []
  }
 ],
 "metadata": {
  "kernelspec": {
   "display_name": "Python 3",
   "language": "python",
   "name": "python3"
  },
  "language_info": {
   "codemirror_mode": {
    "name": "ipython",
    "version": 3
   },
   "file_extension": ".py",
   "mimetype": "text/x-python",
   "name": "python",
   "nbconvert_exporter": "python",
   "pygments_lexer": "ipython3",
   "version": "3.4.3"
  }
 },
 "nbformat": 4,
 "nbformat_minor": 0
}
