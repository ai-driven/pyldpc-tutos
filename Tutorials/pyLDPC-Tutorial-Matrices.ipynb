{
 "cells": [
  {
   "cell_type": "code",
   "execution_count": 16,
   "metadata": {
    "collapsed": true
   },
   "outputs": [],
   "source": [
    "from pyldpc import*\n",
    "import numpy as np\n",
    "from time import time\n",
    "import pickle\n",
    "from scipy.sparse import csr_matrix"
   ]
  },
  {
   "cell_type": "markdown",
   "metadata": {},
   "source": [
    "<h1 align=\"center\"> pyLDPC Matrices Tutorial: construct a specific code </h1> \n",
    "\n",
    "\n",
    "When using pyLDPC in Image, Sound or Text transmission simulation, one needs to build matrices H and G with a certain rate and a certain k. For example, let's say I want to code an decode an RGB image pixel by pixel. Since each pixel is a 3-sized tuple of unit8 numbers, a pixel can be transformed to 24 bits array. Hence, we'll need a coding matrix G with k (number of rows) equal to 24. \n",
    "\n",
    "<br>\n",
    "\n",
    "<font color=\"blue\"><h2> Outline:</h2></font> \n",
    "<font color=\"blue\"><h2> --------------------------------------------------</h2></font> \n",
    "\n",
    "** I - Users' guide: HtG function**\n",
    "\n",
    "     I.1 HtG function \n",
    "     I.2 Applications\n",
    "** II - Theoritical Intuition **\n",
    "\n",
    "     II.1 Theory \n",
    "     II.2 How HtG works\n",
    "    \n",
    "** III - Introduction to scipy.sparse.csr_matrix format and pickle**\n",
    "\n",
    "    III.1 CSR format .. what ?\n",
    "    III.2 Save and load matrices from files. \n",
    "\n",
    "<font color=\"blue\"><h2> --------------------------------------------------</h2></font> \n",
    "\n",
    "\n",
    "\n",
    "\n",
    "# I. User's guide\n",
    "\n",
    "## I-1 The HtG function:\n",
    "\n",
    "Use the *HtG* function: \n",
    "\n",
    "```python\n",
    "def HtG(invrate,k,systematic=True)\n",
    "```\n",
    "\n",
    "- *Invrate* is the approximate rate's inverse (for example if k = 10, n = 28, rate = 1/3, invrate = 3) \n",
    "- k is the message's length. \n",
    "- systematic: boolean, if true, coding matrix is systematic. \n"
   ]
  },
  {
   "cell_type": "code",
   "execution_count": 9,
   "metadata": {
    "collapsed": false
   },
   "outputs": [
    {
     "name": "stdout",
     "output_type": "stream",
     "text": [
      "H=\n",
      " [[0 0 0 ..., 0 0 0]\n",
      " [0 0 0 ..., 0 0 0]\n",
      " [0 0 0 ..., 0 0 0]\n",
      " ..., \n",
      " [0 0 0 ..., 0 0 1]\n",
      " [0 0 0 ..., 0 0 0]\n",
      " [0 0 0 ..., 0 0 0]]\n",
      "\n",
      "tG=\n",
      "  [[1 0 0 ..., 0 0 0]\n",
      " [0 1 0 ..., 0 0 0]\n",
      " [0 0 1 ..., 0 0 0]\n",
      " ..., \n",
      " [0 0 0 ..., 0 0 0]\n",
      " [0 0 0 ..., 0 0 0]\n",
      " [0 0 0 ..., 0 1 1]]\n",
      "\n",
      "G's shape is: (24, 69)\n"
     ]
    }
   ],
   "source": [
    "H,tG = HtG(3,24)\n",
    "print(\"H=\\n\", H)\n",
    "print(\"\\ntG=\\n \", tG)\n",
    "print(\"\\nG's shape is:\", tG.T.shape)"
   ]
  },
  {
   "cell_type": "markdown",
   "metadata": {},
   "source": [
    "##  I-2 Applications\n",
    "\n",
    "1. First decide what rate would you like to use in your code.  \n",
    "2. Second fix k, the number of bits in one message:\n",
    "    - Pixel by pixel image coding: k = 8 if grayscale ; k = 24 if RGB. \n",
    "    - Row by row image coding: k = number of bits in one row (width x 8 if grayscale, width x 24 if RGB)\n",
    "   \n",
    "Let's say we would a code with a rate 1/3 (which means n is approximately equal to 3k), and use it in coding an image of size 200x100. \n",
    "\n",
    "> Grayscale: k = 100 x 8 = 800"
   ]
  },
  {
   "cell_type": "code",
   "execution_count": 18,
   "metadata": {
    "collapsed": false
   },
   "outputs": [
    {
     "name": "stdout",
     "output_type": "stream",
     "text": [
      "(2397, 800)\n"
     ]
    }
   ],
   "source": [
    "H,tG = HtG(3,800)\n",
    "print(tG.shape)"
   ]
  },
  {
   "cell_type": "markdown",
   "metadata": {},
   "source": [
    "Indeed, k = 800, n  approximately = 2400 ! \n",
    "\n",
    "> Grayscale: k = 100 x 24 = 2400"
   ]
  },
  {
   "cell_type": "code",
   "execution_count": 19,
   "metadata": {
    "collapsed": false
   },
   "outputs": [
    {
     "name": "stdout",
     "output_type": "stream",
     "text": [
      "(7197, 2400)\n"
     ]
    }
   ],
   "source": [
    "H,tG = HtG(3,2400)\n",
    "print(tG.shape)"
   ]
  },
  {
   "cell_type": "markdown",
   "metadata": {},
   "source": [
    "Indeed, k = 2400, n  approximately = 7200 = 2400x3 ! \n"
   ]
  },
  {
   "cell_type": "markdown",
   "metadata": {},
   "source": [
    " # II. Theoritical intuition\n",
    "Let's generate a regular parity-check matrix (n,d_v,d_c) = (15,3,5). Let m be H's number of rows. We a priori know that <font color=\"red\"> m.d_c = n.d_v    (1) </font> (because the matrix is regular: number of ones in H seen from a rows perspective = number of ones in H seen from a columns perspective). \n",
    "Gallager's method in constructing H (using sets) relies on the property <font color=\"red\" > d_c divives n.   (2)</font> \n",
    "\n",
    "<img src=\"Equations/Matrices1.png\"> \n",
    "\n",
    "Coding matrix G's number of rows is, since G is full rank,<font color=\"red\"> k = n - rank(H). (3)  </font>. \n",
    "\n",
    "Using the <font color=\"red\"> 3 relations </font> above, we can create an effective method to build any couple of matrices.  \n",
    "\n",
    "**1 - If H is full rank:**\n",
    "\n",
    "Which happens almost never, let's suppose that for the sake of argument, then rank of H is equal to m, the number of rows. We have then: \n",
    "\n",
    "<img src=\"Equations/Matrices2.png\"> \n",
    "\n",
    "The first equality is the result of the full rank assumption. \n",
    "\n",
    "** 2 - If H is not full rank:**\n",
    "\n",
    "In this case, m is **greater** than m above, which means:\n",
    "\n",
    "<img src=\"Equations/Matrices3.png\"> \n",
    "\n",
    "** 3 - Conclusion: ** \n",
    "\n",
    "In practice, the number of linear dependant rows is low compared to m. Major findings using the inequality above: \n",
    "\n",
    "1. Approximate rate k/n can be estimated by 1 - dv/dc\n",
    "2. Specific k can be obtained by fixing dv and dc, and then decreasing n (by dc, 2*dc .. to keep condition (2) valid) \n",
    "\n",
    "In the example above, H has 9 rows, rank(H) = 7. "
   ]
  },
  {
   "cell_type": "markdown",
   "metadata": {},
   "source": [
    "# II -2  How HtG operates:\n",
    "\n",
    "###  small matrices\n",
    "\n",
    "> Situation A: Generate a code of rate = 1/4 (approximate rate) and k = 24. \n",
    "\n",
    "#### 1 - Remember approximate rate = 1 - dv/dc. \n",
    "H must be as sparse as possible to guaratee a good decoding. Chose d_v and d_c the smallest possible numbers. Therefore, dv = 3, dc = 4. \n"
   ]
  },
  {
   "cell_type": "code",
   "execution_count": 12,
   "metadata": {
    "collapsed": false
   },
   "outputs": [],
   "source": [
    "d_v, d_c = 3,4 "
   ]
  },
  {
   "cell_type": "markdown",
   "metadata": {},
   "source": [
    "#### 2 - Remember k > n(1-dv/dc) \n",
    "Which means if you pick n such as n(1-dv/dc) = k, you will get a **higher final k** than expected: \n",
    "n = 4k = 96 "
   ]
  },
  {
   "cell_type": "code",
   "execution_count": 13,
   "metadata": {
    "collapsed": false
   },
   "outputs": [
    {
     "data": {
      "text/plain": [
       "26"
      ]
     },
     "execution_count": 13,
     "metadata": {},
     "output_type": "execute_result"
    }
   ],
   "source": [
    "n = 96 \n",
    "H = RegularH(n,d_v,d_c)\n",
    "n-BinaryRank(H)"
   ]
  },
  {
   "cell_type": "markdown",
   "metadata": {},
   "source": [
    "This means that we should decrease n. \n",
    "\n",
    "#### 3 - Remember d_c must divide n\n",
    "Try n = 92, 88 .. (Notice than we got 26 instead of 24, you may anticipate that you will need to decrease n by 2 dc).\n"
   ]
  },
  {
   "cell_type": "code",
   "execution_count": 14,
   "metadata": {
    "collapsed": false
   },
   "outputs": [
    {
     "data": {
      "text/plain": [
       "25"
      ]
     },
     "execution_count": 14,
     "metadata": {},
     "output_type": "execute_result"
    }
   ],
   "source": [
    "n = 92\n",
    "H = RegularH(n,d_v,d_c)\n",
    "n-BinaryRank(H)"
   ]
  },
  {
   "cell_type": "code",
   "execution_count": 15,
   "metadata": {
    "collapsed": false
   },
   "outputs": [
    {
     "data": {
      "text/plain": [
       "24"
      ]
     },
     "execution_count": 15,
     "metadata": {},
     "output_type": "execute_result"
    }
   ],
   "source": [
    "n = 88\n",
    "H = RegularH(n,d_v,d_c)\n",
    "n-BinaryRank(H)"
   ]
  },
  {
   "cell_type": "markdown",
   "metadata": {},
   "source": [
    "Here's your matrix ! (88,3,4)."
   ]
  },
  {
   "cell_type": "markdown",
   "metadata": {},
   "source": [
    "> Situation B: Generate a code of approximate rate 1/3, k = 24\n",
    "\n",
    "Now that we've *seen* how this construction method operates, we can skip some useless tries:\n",
    "1. Fix d_v = 2, d_c = 3.\n",
    "2. Try n = 3k - d_c, 3k - 2d_c ... "
   ]
  },
  {
   "cell_type": "code",
   "execution_count": 18,
   "metadata": {
    "collapsed": false
   },
   "outputs": [
    {
     "data": {
      "text/plain": [
       "24"
      ]
     },
     "execution_count": 18,
     "metadata": {},
     "output_type": "execute_result"
    }
   ],
   "source": [
    "d_v,d_c = 2,3\n",
    "n = 3*24 - d_c\n",
    "H = RegularH(n,d_v,d_c)\n",
    "n-BinaryRank(H)"
   ]
  },
  {
   "cell_type": "markdown",
   "metadata": {},
   "source": [
    "###  Large Matrices: (Coding row by row) \n",
    "\n",
    " The method is the same with large matrices except that the calculations take more time ! That's why check first if the matrix is not available in the *<a href=\"http://nbviewer.jupyter.org/github/janatiH/pyldpc/blob/master/pyLDPC-Tutorial-Library.ipynb?flush_cache=true/\"> Library</a>*. If not, well I recommand this *\"empirical trick\"*: \n",
    " \n",
    " - rate = 1/3: use n = 3k - d_c = 3k - 3  \n",
    " - rate = 1/4: use n = 4k-2*d_c = 4k - 8 \n",
    " - rate = 1/5: use n = 5k - 3*d_c = 5k - 15\n",
    " \n",
    " and so on. \n",
    "\n",
    " \n",
    " > <font color=\"blue\"> Situation C:</font> Generate a (1/3) code for a (100x200) image (row by row coding). \n",
    " \n",
    " ### 1 - First evaluate k:\n",
    " \n",
    " - Grayscale image: each pixel is an uint8 number => one pixel = 8 bits => Each row has k = 200*8 = 1600 bits.\n",
    " - RGB image: each pixe has 3 uint8 numbers => one pixel = 24 bits => Each row has k = 200*24 = 4800 bits. \n",
    " \n",
    " > <font color=\"blue\"> C: </font>Grayscale "
   ]
  },
  {
   "cell_type": "code",
   "execution_count": 22,
   "metadata": {
    "collapsed": false
   },
   "outputs": [
    {
     "data": {
      "text/plain": [
       "1600"
      ]
     },
     "execution_count": 22,
     "metadata": {},
     "output_type": "execute_result"
    }
   ],
   "source": [
    "d_v,d_c = 2,3\n",
    "n = 3*1600 - 3 \n",
    "H = RegularH(n,d_v,d_c)\n",
    "n-BinaryRank(H)"
   ]
  },
  {
   "cell_type": "markdown",
   "metadata": {},
   "source": [
    "Bingo ! (Takes a few seconds to calculate)\n",
    " > <font color=\"blue\"> C: </font>RGB "
   ]
  },
  {
   "cell_type": "code",
   "execution_count": 23,
   "metadata": {
    "collapsed": false
   },
   "outputs": [
    {
     "data": {
      "text/plain": [
       "4800"
      ]
     },
     "execution_count": 23,
     "metadata": {},
     "output_type": "execute_result"
    }
   ],
   "source": [
    "d_v,d_c = 2,3\n",
    "n = 3*4800 - 3 \n",
    "H = RegularH(n,d_v,d_c)\n",
    "n-BinaryRank(H)"
   ]
  },
  {
   "cell_type": "markdown",
   "metadata": {},
   "source": [
    "YES ! (Takes one or two minutes to calculate) \n",
    "\n",
    "With bigger images, you may feel frustrated to wait for the matrices to be constructed, particularly if n is greater than 10000. \n",
    "\n",
    "I introduced *<a href=\"http://nbviewer.jupyter.org/github/janatiH/pyldpc/blob/master/pyLDPC-Tutorial-Library.ipynb?flush_cache=true/\">a cool library</a>*   of large matrices  ready to be downloaded. To save and load objects from files we'll use the package <font color=\"green\"><b> pickle </b></font>.\n",
    "\n",
    "# III - CSR objects, Pickle: \n",
    "When using large matrices, **scipy.sparse.csr_matrix** format is highly recommanded. Since v.0.7, pyLDPC support both numpy arrays and scipy.sparse.csr_matrix objects. \n",
    "## III - 1 sparse csr .. what ?\n",
    "CSR format (*Compressed-Storage-Rows*) is a very effective way to store, compute products, access data from rows when dealing with large matrices containing very few non-zeros entries. Example:"
   ]
  },
  {
   "cell_type": "code",
   "execution_count": 26,
   "metadata": {
    "collapsed": false
   },
   "outputs": [
    {
     "name": "stdout",
     "output_type": "stream",
     "text": [
      "  (0, 0)\t1\n",
      "  (0, 1)\t1\n",
      "  (0, 2)\t1\n",
      "  (1, 3)\t1\n",
      "  (1, 4)\t1\n",
      "  (1, 5)\t1\n",
      "  (2, 6)\t1\n",
      "  (2, 7)\t1\n",
      "  (2, 8)\t1\n",
      "  (3, 9)\t1\n",
      "  (3, 10)\t1\n",
      "  (3, 11)\t1\n",
      "  (4, 12)\t1\n",
      "  (4, 13)\t1\n",
      "  (4, 14)\t1\n",
      "  (5, 15)\t1\n",
      "  (5, 16)\t1\n",
      "  (5, 17)\t1\n",
      "  (6, 18)\t1\n",
      "  (6, 19)\t1\n",
      "  (6, 20)\t1\n",
      "  (7, 21)\t1\n",
      "  (7, 22)\t1\n",
      "  (7, 23)\t1\n",
      "  (8, 24)\t1\n",
      "  :\t:\n",
      "  (9589, 13201)\t1\n",
      "  (9590, 3994)\t1\n",
      "  (9590, 8502)\t1\n",
      "  (9590, 14368)\t1\n",
      "  (9591, 1381)\t1\n",
      "  (9591, 1749)\t1\n",
      "  (9591, 3740)\t1\n",
      "  (9592, 1392)\t1\n",
      "  (9592, 4610)\t1\n",
      "  (9592, 11614)\t1\n",
      "  (9593, 9097)\t1\n",
      "  (9593, 9931)\t1\n",
      "  (9593, 10515)\t1\n",
      "  (9594, 2292)\t1\n",
      "  (9594, 10009)\t1\n",
      "  (9594, 13616)\t1\n",
      "  (9595, 5753)\t1\n",
      "  (9595, 6290)\t1\n",
      "  (9595, 12018)\t1\n",
      "  (9596, 1378)\t1\n",
      "  (9596, 2606)\t1\n",
      "  (9596, 12165)\t1\n",
      "  (9597, 1914)\t1\n",
      "  (9597, 4752)\t1\n",
      "  (9597, 10596)\t1\n"
     ]
    }
   ],
   "source": [
    "from scipy.sparse import csr_matrix \n",
    "Hs = csr_matrix(H)\n",
    "print(Hs)"
   ]
  },
  {
   "cell_type": "markdown",
   "metadata": {},
   "source": [
    "See ? csr format store only coordinates and value of non-zeros entries. You can get the numpy array version using toarray() method: Hs.toarray().\n",
    "\n",
    "To use sparse matrices in code and decoding, simply pass Hs instead of H to coding/decoding functions.\n",
    "\n",
    "## 3 - 2 Using Pickle to save and load CSR objects\n",
    "\n",
    "### Saving objects: \n",
    "Lets generate a H,tG large matrices: \n",
    "\n",
    "<font color=\"red\"> Note that since v0.7, pyLDPC (construction,coding and decoding) functions (return,take) transposed G instead of G. </font>"
   ]
  },
  {
   "cell_type": "code",
   "execution_count": 27,
   "metadata": {
    "collapsed": false
   },
   "outputs": [
    {
     "data": {
      "text/plain": [
       "(4797, 1600)"
      ]
     },
     "execution_count": 27,
     "metadata": {},
     "output_type": "execute_result"
    }
   ],
   "source": [
    "d_v,d_c = 2,3\n",
    "n = 3*1600 - 3 \n",
    "H = RegularH(n,d_v,d_c)\n",
    "H,tG = CodingMatrix_systematic(H)\n",
    "Hs = csr_matrix(H)\n",
    "tGs = csr_matrix(tG)\n",
    "tGs.shape"
   ]
  },
  {
   "cell_type": "markdown",
   "metadata": {},
   "source": [
    "Saving Hs, create a folder, in my case its Matrices/1600/1-3/ (1600 for k, 1-3 for rate). And then open (create) a file that I chose to name Hs with the option \"write in binary\" (wb). Create an instance of a \"Pickler\" object associated to my file. This \"Pickler\" object will \"dump\" Hs in the file: "
   ]
  },
  {
   "cell_type": "code",
   "execution_count": 28,
   "metadata": {
    "collapsed": true
   },
   "outputs": [],
   "source": [
    "import pickle\n",
    "with open(\"Matrices/1-3/1600/Hs\",\"wb\") as myfileHs:\n",
    "    mypickler = pickle.Pickler(myfileHs)\n",
    "    mypickler.dump(Hs)"
   ]
  },
  {
   "cell_type": "markdown",
   "metadata": {},
   "source": [
    "<img src=\"Equations/Matrices4.png\">\n",
    "\n",
    "You can actually dump as many objects as you want by adding more mypickler.dump(object) instructions. Personally, I prefer to save on object per file.\n",
    "\n",
    "Let's try to load (read) Hs. It's actually similar to saving: instead of a Pickler object, an Unpickler object is used. And instead of \"wb\" mode, \"read in binary\" \"rb\" is passed to *open*.\n",
    "\n",
    "<font color=\"red\"> Careful with modes when using pickle ! If you pass \"wb\" (write mode) instead of \"rb\" (read mode) when you read a file, the file will be overwritten ! </font>"
   ]
  },
  {
   "cell_type": "code",
   "execution_count": 30,
   "metadata": {
    "collapsed": true
   },
   "outputs": [],
   "source": [
    "with open(\"Matrices/1-3/1600/Hs\",\"rb\") as myfileHs:\n",
    "    myunpickler = pickle.Unpickler(myfileHs)\n",
    "    HsRead = myunpickler.load()"
   ]
  },
  {
   "cell_type": "markdown",
   "metadata": {},
   "source": [
    "Test if Hsread is equal to Hs: "
   ]
  },
  {
   "cell_type": "code",
   "execution_count": 35,
   "metadata": {
    "collapsed": false
   },
   "outputs": [
    {
     "data": {
      "text/plain": [
       "True"
      ]
     },
     "execution_count": 35,
     "metadata": {},
     "output_type": "execute_result"
    }
   ],
   "source": [
    "(HsRead.toarray() == Hs.toarray()).all()"
   ]
  },
  {
   "cell_type": "markdown",
   "metadata": {},
   "source": [
    "Bingo ! You can know save and load large matrices which is not only a save of a huge amount of time but also a possibility to use the same matrices any time ! "
   ]
  },
  {
   "cell_type": "markdown",
   "metadata": {
    "collapsed": true
   },
   "source": [
    "## Go to other pyLDPC tutorials:\n",
    "\n",
    "\n",
    "- Users' Guide: \n",
    "\n",
    "1- <a href=http://nbviewer.jupyter.org/github/janatiH/pyldpc/blob/master/pyLDPC-Tutorial-Basics.ipynb?flush_cache=true> LDPC Coding-Decoding Simulation </a> \n",
    "\n",
    "2- <a href=http://nbviewer.jupyter.org/github/janatiH/pyldpc/blob/master/pyLDPC-Tutorial-Images.ipynb?flush_cache=true> Images Coding-DecodingTutorial </a>\n",
    "\n",
    "3- <a href =http://nbviewer.jupyter.org/github/janatiH/pyldpc/blob/master/pyLDPC-Tutorial-Sound.ipynb?flush_cache=true> Sound Coding-DecodingTutorial </a> \n",
    "\n",
    "4- <a href=http://nbviewer.jupyter.org/github/janatiH/pyldpc/blob/master/pyLDPC-Tutorial-Matrices.ipynb?flush_cache=true> LDPC Matrices Construction and User's Tutorial </a> \n",
    "\n",
    "5- <a href=\"http://nbviewer.jupyter.org/github/janatiH/pyldpc/blob/master/pyLDPC-Tutorial-Library.ipynb?flush_cache=true/\"> Large Matrices Library </a>\n",
    "- For LDPC construction details:\n",
    "\n",
    "1- <a href=http://nbviewer.jupyter.org/github/janatiH/pyldpc/blob/master/pyLDPC-Presentation.ipynb?flush_cache=true>pyLDPC Construction </a>\n",
    "\n",
    "2- <a href= http://nbviewer.jupyter.org/github/janatiH/pyldpc/blob/master/pyLDPC-Images-Construction.ipynb?flush_cache=true> LDPC Images Functions Construction </a> \n",
    " \n",
    "3- <a href = http://nbviewer.jupyter.org/github/janatiH/pyldpc/blob/master/pyLDPC-Sound-Construction.ipynb?flush_cache=true> LDPC Sound Functions Construction </a> \n",
    "\n",
    "4- <a href=http://nbviewer.jupyter.org/github/janatiH/pyldpc/blob/master/pyLDPC-Tutorial-Matrices.ipynb?flush_cache=true> LDPC Matrices Construction and User's Tutorial </a> "
   ]
  },
  {
   "cell_type": "code",
   "execution_count": null,
   "metadata": {
    "collapsed": true
   },
   "outputs": [],
   "source": []
  }
 ],
 "metadata": {
  "kernelspec": {
   "display_name": "Python 3",
   "language": "python",
   "name": "python3"
  },
  "language_info": {
   "codemirror_mode": {
    "name": "ipython",
    "version": 3
   },
   "file_extension": ".py",
   "mimetype": "text/x-python",
   "name": "python",
   "nbconvert_exporter": "python",
   "pygments_lexer": "ipython3",
   "version": "3.4.3"
  }
 },
 "nbformat": 4,
 "nbformat_minor": 0
}
