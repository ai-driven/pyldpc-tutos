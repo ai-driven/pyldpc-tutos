{
 "cells": [
  {
   "cell_type": "markdown",
   "metadata": {},
   "source": [
    "<h1 align=\"center\"> pyLDPC Tutorial: Images </h1>\n"
   ]
  },
  {
   "cell_type": "markdown",
   "metadata": {
    "collapsed": false
   },
   "source": [
    "## update:  03/28/16 - v.0.8.0\n",
    "\n",
    "<b><font color=\"red\"> Since version 0.7: Coding and decoding functions take tG (Transposed G) instead of G, the coding matrix. Functions that construct it (CodingMatrix and CodingMatrix_systematic) return tG instead of G as well. </font></b> \n",
    "\n",
    "<b><font color=\"red\"> Since version 0.8: Image coding and decoding functions are suitable for any LDPC code of any size, with out  restrictions  </font></b> \n",
    "\n",
    "<br>\n",
    "<b><font color=\"blue\"> New functions/sections are indicated in blue </font></b>\n",
    "\n",
    "\n",
    "\n",
    "This notebook introduces a user's guide of pyLDPC's sub-module Images: ldpc_images.\n",
    "If you would like to know what each function does and go into the construction details, go to <a href=\"http://nbviewer.jupyter.org/github/janatiH/pyldpc/blob/master/pyLDPC-Images-Construction.ipynb?flush_cache=true/\"> LDPC-Images Construction Details</a>\n",
    "\n",
    "\n",
    "<font color=\"blue\"><h2> Outline:</h2></font> \n",
    "<font color=\"blue\"><h2> --------------------------------------------------</h2></font> \n",
    "\n",
    "**I. Step 1: Construct Code **\n",
    "\n",
    "**II. Step 2: Read and binarize the image **\n",
    "\n",
    "**III. Step 3: Code the image and vizualise the noise **\n",
    "\n",
    "**IV. Step 4: Decode the transmitted image **\n",
    "\n",
    "<font color=\"blue\"><h2> --------------------------------------------------</h2></font> \n",
    "\n",
    "We'll consider 2 types of images in this tutorial:\n",
    "\n",
    "- Grayscale images: Images whean read by cv2.imread(), are seen as 2D arrays. Each pixel is a uint8 number (0-255). \n",
    "- RGB Images: Images that are seen as 3D arrays. Each pixel is an RGB array of 3 uint8 numbers ( [R,G,B] ). \n"
   ]
  },
  {
   "cell_type": "code",
   "execution_count": 3,
   "metadata": {
    "collapsed": true
   },
   "outputs": [],
   "source": [
    "import numpy as np\n",
    "from IPython.display import display, HTML\n",
    "import pyldpc\n",
    "from pyldpc import ldpc_images\n",
    "import cv2 \n",
    "from time import time\n",
    "from scipy.sparse import csr_matrix"
   ]
  },
  {
   "cell_type": "markdown",
   "metadata": {},
   "source": [
    "\n",
    "If I had to sum up Images Coding and decoding in a few words, I'd say:\n",
    "\n",
    "1. Make coding and decoding matrices G and H.\n",
    "2. Read the image [2D-array if grayscale, 3D-array if RGB]. \n",
    "3. Binarize the image [Using functions we'll see later].\n",
    "4. Apply Coding function to binary image.\n",
    "5. Apply Decoding function to Coded image. \n",
    "\n",
    "We'll go step by step 1 through 5 for both grayscale and RGB Images.\n",
    "\n",
    "# Step 1: Construct a code\n",
    "\n",
    "\n",
    "To construct a code you need to choose a the triplet (n,d_v,d_c). \n",
    "Keep in mind that: \n",
    "\n",
    "- the rate of the code k/n is approximately equal to 1 - d_v/d_c.****\n",
    "- if high values of k,n are used, transform H and G to csr format using scipy.sparse.csr_matrix(): It's a compressed format with which calculations are faster. \n",
    "\n",
    "\n",
    "* *Details about how to choose matrices parameters <a href=\"http://nbviewer.jupyter.org/github/janatiH/pyldpc/blob/master/pyLDPC-Tutorial-Matrices.ipynb?flush_cache=true/\">here </a>, but I recommand going through this tutorial and using the matrices defined hereby (or any other matrices) for now, and then optimize your coding & decoding by changing the matrices.*"
   ]
  },
  {
   "cell_type": "code",
   "execution_count": 5,
   "metadata": {
    "collapsed": false
   },
   "outputs": [
    {
     "data": {
      "text/plain": [
       "202"
      ]
     },
     "execution_count": 5,
     "metadata": {},
     "output_type": "execute_result"
    }
   ],
   "source": [
    "n = 800\n",
    "d_c = 4\n",
    "d_v = 3 #In this case k is approximately equal to n/4 (n x (1-3/4))\n",
    "\n",
    "H = pyldpc.RegularH(n,d_v,d_c)\n",
    "H,tG = pyldpc.CodingMatrix_systematic(H)\n",
    "\n",
    "tGs = csr_matrix(tG)\n",
    "Hs = csr_matrix(H)\n",
    "\n",
    "k = tG.shape[1]\n",
    "k"
   ]
  },
  {
   "cell_type": "markdown",
   "metadata": {},
   "source": [
    "# Step 2: Read and binarize the image \n",
    "\n",
    "Picture the image as a huge array of uint8 numbers (meaning: **u** for unsigned (positive) **int** for integer and 8 for 8 binary bits, which means that the number is lower than 2^7). \n",
    "\n",
    "If the image is grayscale, each pixel equals one uint8 number. The image is therefore read as a 2D-array. \n",
    "If the image is colorful, each pixel equals a tuple of 3 uint8 numbers (one for each color, Red Green Blue). The image is therefore a 3D-array, the third dimension being equal to 3. \n",
    "\n",
    "- If the image is grayscale, we write each pixel as a 8-sized binary array and pass it to coding and decoding functions. \n",
    "- If the image is RGB, we write each pixel as a 24-sized binary array and pass it to coding and decoding functions. \n",
    "\n",
    "\n",
    "Let's code and decode the grayscale image: <img src=\"Images/eye.png\"> and its rgb form: <img src=\"Images/oeil.png\">\n"
   ]
  },
  {
   "cell_type": "markdown",
   "metadata": {},
   "source": [
    "Load the image using cv2.imread:\n",
    "\n",
    "<b><font color=\"red\"> imread's second argument is important: 0 for grayscale images, 1 for RGB images. "
   ]
  },
  {
   "cell_type": "code",
   "execution_count": 7,
   "metadata": {
    "collapsed": false
   },
   "outputs": [
    {
     "data": {
      "text/plain": [
       "(128, 128)"
      ]
     },
     "execution_count": 7,
     "metadata": {},
     "output_type": "execute_result"
    }
   ],
   "source": [
    "eye_gray = cv2.imread(\"Images/oeil.png\",0)\n",
    "eye_gray.shape"
   ]
  },
  {
   "cell_type": "code",
   "execution_count": 8,
   "metadata": {
    "collapsed": false
   },
   "outputs": [
    {
     "data": {
      "text/plain": [
       "(128, 128, 3)"
      ]
     },
     "execution_count": 8,
     "metadata": {},
     "output_type": "execute_result"
    }
   ],
   "source": [
    "eye_rgb = cv2.imread(\"Images/oeil.png\",1)\n",
    "eye_rgb.shape"
   ]
  },
  {
   "cell_type": "markdown",
   "metadata": {},
   "source": [
    "Transform image format from np.uint8 to binary: "
   ]
  },
  {
   "cell_type": "code",
   "execution_count": 13,
   "metadata": {
    "collapsed": false
   },
   "outputs": [
    {
     "data": {
      "text/plain": [
       "(128, 128, 8)"
      ]
     },
     "execution_count": 13,
     "metadata": {},
     "output_type": "execute_result"
    }
   ],
   "source": [
    "eye_gray_bin = ldpc_images.Gray2Bin(eye_gray)\n",
    "eye_gray_bin.shape"
   ]
  },
  {
   "cell_type": "code",
   "execution_count": 14,
   "metadata": {
    "collapsed": false
   },
   "outputs": [
    {
     "data": {
      "text/plain": [
       "(128, 128, 24)"
      ]
     },
     "execution_count": 14,
     "metadata": {},
     "output_type": "execute_result"
    }
   ],
   "source": [
    "eye_rgb_bin = ldpc_images.RGB2Bin(eye_rgb)\n",
    "eye_rgb_bin.shape"
   ]
  },
  {
   "cell_type": "markdown",
   "metadata": {},
   "source": [
    "# Step 3: Code the binary image\n",
    "Code and send binary image eye_bin through a channel with:\n",
    "\n",
    "- SNR = 6 db\n",
    "\n",
    "The Coding function *ImageCoding* returns the coded and the noisy image:\n",
    "\n",
    "- The coded image is passed later on to the decoding function.\n",
    "- The noisy image is transformed to Gray or RGB to be vizualised. \n",
    "\n"
   ]
  },
  {
   "cell_type": "code",
   "execution_count": 16,
   "metadata": {
    "collapsed": true
   },
   "outputs": [],
   "source": [
    "CODING = 1\n",
    "snr = 6"
   ]
  },
  {
   "cell_type": "markdown",
   "metadata": {},
   "source": [
    "### Grayscale: "
   ]
  },
  {
   "cell_type": "code",
   "execution_count": 19,
   "metadata": {
    "collapsed": false
   },
   "outputs": [],
   "source": [
    "if CODING:\n",
    "    eye_gray_coded,eye_gray_noisy_bin = ldpc_images.ImageCoding(tGs,eye_gray_bin,snr)\n",
    "    \n",
    "    eye_gray_noisy = ldpc_images.Bin2Gray(eye_gray_noisy_bin)\n",
    "    \n",
    "    ## Save the image locally: \n",
    "    cv2.imwrite(\"Images/eye/grayscale/snr=6/eye_noisy.jpg\",eye_gray_noisy)\n"
   ]
  },
  {
   "cell_type": "markdown",
   "metadata": {},
   "source": [
    "### RGB:"
   ]
  },
  {
   "cell_type": "code",
   "execution_count": 22,
   "metadata": {
    "collapsed": false
   },
   "outputs": [],
   "source": [
    "if CODING:\n",
    "    eye_rgb_coded,eye_rgb_noisy_bin = ldpc_images.ImageCoding(tGs,eye_rgb_bin,snr)\n",
    "\n",
    "    eye_rgb_noisy = ldpc_images.Bin2RGB(eye_rgb_noisy_bin)\n",
    "\n",
    "    ## Save the image locally: \n",
    "    cv2.imwrite(\"Images/eye/rgb/snr=6/eye_noisy.jpg\",eye_rgb_noisy)"
   ]
  },
  {
   "cell_type": "markdown",
   "metadata": {},
   "source": [
    "### Let's have a look at  the noisy pictures:"
   ]
  },
  {
   "cell_type": "code",
   "execution_count": 20,
   "metadata": {
    "collapsed": false
   },
   "outputs": [
    {
     "data": {
      "text/html": [
       "<img src=\"Images/eye/grayscale/snr=6/eye_noisy.jpg\">"
      ],
      "text/plain": [
       "<IPython.core.display.HTML object>"
      ]
     },
     "metadata": {},
     "output_type": "display_data"
    },
    {
     "data": {
      "text/html": [
       "<img src=\"Images/eye/rgb/snr=6/eye_noisy.jpg\">"
      ],
      "text/plain": [
       "<IPython.core.display.HTML object>"
      ]
     },
     "metadata": {},
     "output_type": "display_data"
    }
   ],
   "source": [
    "display(HTML('''<img src=\"Images/eye/grayscale/snr=6/eye_noisy.jpg\">'''))\n",
    "display(HTML('''<img src=\"Images/eye/rgb/snr=6/eye_noisy.jpg\">'''))"
   ]
  },
  {
   "cell_type": "markdown",
   "metadata": {},
   "source": [
    "# Step 3: Decoding \n",
    "And now, let's decode:\n",
    "\n",
    "<font color=#A44057> Warning ! Decoding takes time depending on the image's and the matrices' sizes.! </font>\n",
    "\n",
    "\n",
    "\n",
    "> Iteration number: 1"
   ]
  },
  {
   "cell_type": "code",
   "execution_count": 23,
   "metadata": {
    "collapsed": true
   },
   "outputs": [],
   "source": [
    "DECODING = 1\n",
    "max_iter = 1"
   ]
  },
  {
   "cell_type": "markdown",
   "metadata": {},
   "source": [
    "### Grayscale"
   ]
  },
  {
   "cell_type": "code",
   "execution_count": 24,
   "metadata": {
    "collapsed": false
   },
   "outputs": [
    {
     "name": "stdout",
     "output_type": "stream",
     "text": [
      "Decoding time for 1 iterations and snr = 6:  35.2626678943634\n"
     ]
    },
    {
     "data": {
      "text/html": [
       "<img src=\"Images/eye/grayscale/snr=6/iterations/eye_iter1.jpg\">"
      ],
      "text/plain": [
       "<IPython.core.display.HTML object>"
      ]
     },
     "metadata": {},
     "output_type": "display_data"
    },
    {
     "name": "stdout",
     "output_type": "stream",
     "text": [
      "Bit Error Rate in %: 0.0602722167969 %\n"
     ]
    }
   ],
   "source": [
    "if DECODING:\n",
    "    \n",
    "    t = time()\n",
    "    eye_gray_decoded_bin = ldpc_images.ImageDecoding(tGs,H,eye_gray_coded,snr,max_iter)\n",
    "    t = time() - t\n",
    "    \n",
    "    eye_gray_decoded = ldpc_images.Bin2Gray(eye_gray_decoded_bin)\n",
    "    \n",
    "    cv2.imwrite(\"Images/eye/grayscale/snr=6/iterations/eye_iter\"+str(max_iter)+\".jpg\",eye_gray_decoded)\n",
    "    \n",
    "    print(\"Decoding time for {} iterations and snr = {}: \".format(max_iter,snr),t) \n",
    "    \n",
    "    display(HTML('''<img src=\"Images/eye/grayscale/snr=6/iterations/eye_iter'''+str(max_iter)+'''.jpg\">'''))\n",
    "    \n",
    "print(\"Bit Error Rate in %:\", 100*ldpc_images.BER(eye_gray_bin,eye_gray_decoded_bin),\"%\")"
   ]
  },
  {
   "cell_type": "markdown",
   "metadata": {},
   "source": [
    "The decoding is not error-free, let's increment our decoding loop to 10 iterations: "
   ]
  },
  {
   "cell_type": "code",
   "execution_count": 25,
   "metadata": {
    "collapsed": false
   },
   "outputs": [
    {
     "name": "stdout",
     "output_type": "stream",
     "text": [
      "Decoding time for 10 iterations and snr = 6:  46.056742906570435\n"
     ]
    },
    {
     "data": {
      "text/html": [
       "<img src=\"Images/eye/grayscale/snr=6/iterations/eye_iter10.jpg\">"
      ],
      "text/plain": [
       "<IPython.core.display.HTML object>"
      ]
     },
     "metadata": {},
     "output_type": "display_data"
    },
    {
     "name": "stdout",
     "output_type": "stream",
     "text": [
      "Bit Error Rate in %: 0.0 %\n"
     ]
    }
   ],
   "source": [
    "max_iter= 10\n",
    "\n",
    "if DECODING:\n",
    "    \n",
    "    t = time()\n",
    "    eye_gray_decoded_bin = ldpc_images.ImageDecoding(tGs,H,eye_gray_coded,snr,max_iter)\n",
    "    t = time() - t\n",
    "    \n",
    "    eye_gray_decoded = ldpc_images.Bin2Gray(eye_gray_decoded_bin)\n",
    "    \n",
    "    cv2.imwrite(\"Images/eye/grayscale/snr=6/iterations/eye_iter\"+str(max_iter)+\".jpg\",eye_gray_decoded)\n",
    "    \n",
    "    print(\"Decoding time for {} iterations and snr = {}: \".format(max_iter,snr),t) \n",
    "    \n",
    "    display(HTML('''<img src=\"Images/eye/grayscale/snr=6/iterations/eye_iter'''+str(max_iter)+'''.jpg\">'''))\n",
    "    \n",
    "print(\"Bit Error Rate in %:\", 100*ldpc_images.BER(eye_gray_bin,eye_gray_decoded_bin),\"%\")"
   ]
  },
  {
   "cell_type": "markdown",
   "metadata": {},
   "source": [
    "Decoding is errror-free !"
   ]
  },
  {
   "cell_type": "markdown",
   "metadata": {
    "collapsed": true
   },
   "source": [
    "### RGB "
   ]
  },
  {
   "cell_type": "code",
   "execution_count": 26,
   "metadata": {
    "collapsed": true
   },
   "outputs": [],
   "source": [
    "DECODING = 1\n",
    "max_iter = 1"
   ]
  },
  {
   "cell_type": "code",
   "execution_count": 27,
   "metadata": {
    "collapsed": false
   },
   "outputs": [
    {
     "name": "stdout",
     "output_type": "stream",
     "text": [
      "Decoding time for 1 iterations and snr = 6:  110.33554196357727\n"
     ]
    },
    {
     "data": {
      "text/html": [
       "<img src=\"Images/eye/grayscale/snr=6/iterations/eye_iter1.jpg\">"
      ],
      "text/plain": [
       "<IPython.core.display.HTML object>"
      ]
     },
     "metadata": {},
     "output_type": "display_data"
    },
    {
     "name": "stdout",
     "output_type": "stream",
     "text": [
      "Bit Error Rate in %: 0.0554402669271 %\n"
     ]
    }
   ],
   "source": [
    "if DECODING:\n",
    "    \n",
    "    t = time()\n",
    "    eye_rgb_decoded_bin = ldpc_images.ImageDecoding(tGs,H,eye_rgb_coded,snr,max_iter)\n",
    "    t = time() - t\n",
    "    \n",
    "    eye_rgb_decoded = ldpc_images.Bin2RGB(eye_rgb_decoded_bin)\n",
    "    \n",
    "    cv2.imwrite(\"Images/eye/grayscale/snr=6/iterations/eye_iter\"+str(max_iter)+\".jpg\",eye_rgb_decoded)\n",
    "    \n",
    "    print(\"Decoding time for {} iterations and snr = {}: \".format(max_iter,snr),t) \n",
    "    \n",
    "    display(HTML('''<img src=\"Images/eye/grayscale/snr=6/iterations/eye_iter'''+str(max_iter)+'''.jpg\">'''))\n",
    "    \n",
    "print(\"Bit Error Rate in %:\", 100*ldpc_images.BER(eye_rgb_bin,eye_rgb_decoded_bin),\"%\")"
   ]
  },
  {
   "cell_type": "markdown",
   "metadata": {},
   "source": [
    "The decoding is not error-free, let's increment our decoding loop to 10 iterations: "
   ]
  },
  {
   "cell_type": "code",
   "execution_count": 28,
   "metadata": {
    "collapsed": false
   },
   "outputs": [
    {
     "name": "stdout",
     "output_type": "stream",
     "text": [
      "Decoding time for 10 iterations and snr = 6:  128.7423050403595\n"
     ]
    },
    {
     "data": {
      "text/html": [
       "<img src=\"Images/eye/grayscale/snr=6/iterations/eye_iter10.jpg\">"
      ],
      "text/plain": [
       "<IPython.core.display.HTML object>"
      ]
     },
     "metadata": {},
     "output_type": "display_data"
    },
    {
     "name": "stdout",
     "output_type": "stream",
     "text": [
      "Bit Error Rate in %: 0.0 %\n"
     ]
    }
   ],
   "source": [
    "max_iter = 10 \n",
    "\n",
    "if DECODING:\n",
    "    \n",
    "    t = time()\n",
    "    eye_rgb_decoded_bin = ldpc_images.ImageDecoding(tGs,H,eye_rgb_coded,snr,max_iter)\n",
    "    t = time() - t\n",
    "    \n",
    "    eye_rgb_decoded = ldpc_images.Bin2RGB(eye_rgb_decoded_bin)\n",
    "    \n",
    "    cv2.imwrite(\"Images/eye/grayscale/snr=6/iterations/eye_iter\"+str(max_iter)+\".jpg\",eye_rgb_decoded)\n",
    "    \n",
    "    print(\"Decoding time for {} iterations and snr = {}: \".format(max_iter,snr),t) \n",
    "    \n",
    "    display(HTML('''<img src=\"Images/eye/grayscale/snr=6/iterations/eye_iter'''+str(max_iter)+'''.jpg\">'''))\n",
    "    \n",
    "print(\"Bit Error Rate in %:\", 100*ldpc_images.BER(eye_rgb_bin,eye_rgb_decoded_bin),\"%\")"
   ]
  },
  {
   "cell_type": "markdown",
   "metadata": {},
   "source": [
    "Error-free decoding ! \n",
    "\n"
   ]
  },
  {
   "cell_type": "code",
   "execution_count": null,
   "metadata": {
    "collapsed": true
   },
   "outputs": [],
   "source": []
  }
 ],
 "metadata": {
  "kernelspec": {
   "display_name": "Python 3",
   "language": "python",
   "name": "python3"
  },
  "language_info": {
   "codemirror_mode": {
    "name": "ipython",
    "version": 3
   },
   "file_extension": ".py",
   "mimetype": "text/x-python",
   "name": "python",
   "nbconvert_exporter": "python",
   "pygments_lexer": "ipython3",
   "version": "3.4.3"
  }
 },
 "nbformat": 4,
 "nbformat_minor": 0
}
